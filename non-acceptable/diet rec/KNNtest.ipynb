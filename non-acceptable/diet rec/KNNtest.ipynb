{
 "cells": [
  {
   "cell_type": "code",
   "execution_count": 9,
   "id": "19f24232-f6ae-469c-8a62-6ca204322de3",
   "metadata": {},
   "outputs": [],
   "source": [
    "import pandas as pd\n",
    "from sklearn.model_selection import train_test_split\n",
    "from sklearn.model_selection import GridSearchCV\n",
    "from sklearn.neighbors import KNeighborsClassifier\n",
    "from sklearn.metrics import accuracy_score, recall_score, classification_report\n",
    "\n",
    "file_path = \"diet_recommendations_dataset_enhanced.csv\" \n",
    "data = pd.read_csv(file_path)"
   ]
  },
  {
   "cell_type": "code",
   "execution_count": 57,
   "id": "bc9f193d-964b-43c3-acbd-064e0b035ef4",
   "metadata": {},
   "outputs": [
    {
     "name": "stdout",
     "output_type": "stream",
     "text": [
      "Best value of k: 34\n"
     ]
    }
   ],
   "source": [
    "feature_columns = ['Age', 'DSTY' , 'DCI' ,'CHL','BP','GLCS', 'DTRSTRIC'] \n",
    "target_column = \"DietRC\" \n",
    "X = data[feature_columns]\n",
    "y = data[target_column]\n",
    "\n",
    "X_train, X_test, y_train, y_test = train_test_split(X, y, test_size=0.3, random_state=42)\n",
    "\n",
    "param_grid = {'n_neighbors': range(1, 35)}  # Test k from 1 to 30\n",
    "grid = GridSearchCV(KNeighborsClassifier(), param_grid, cv=3)  # 5-fold cross-validation\n",
    "grid.fit(X_train, y_train)\n",
    "best_k = grid.best_params_['n_neighbors']\n",
    "print(f\"Best value of k: {best_k}\")"
   ]
  },
  {
   "cell_type": "code",
   "execution_count": 59,
   "id": "2199538b-0717-4c72-ac2e-5fe5d04f92d3",
   "metadata": {},
   "outputs": [
    {
     "name": "stdout",
     "output_type": "stream",
     "text": [
      "Classification Metrics:\n",
      "Accuracy: 0.36\n",
      "\n",
      "Classification Report:\n",
      "              precision    recall  f1-score   support\n",
      "\n",
      "           1       0.26      0.19      0.22        96\n",
      "           2       0.24      0.16      0.20        67\n",
      "           3       0.42      0.57      0.48       137\n",
      "\n",
      "    accuracy                           0.36       300\n",
      "   macro avg       0.31      0.31      0.30       300\n",
      "weighted avg       0.33      0.36      0.33       300\n",
      "\n"
     ]
    }
   ],
   "source": [
    "k = 34\n",
    "knn = KNeighborsClassifier(n_neighbors=k)\n",
    "knn.fit(X_train, y_train)\n",
    "y_pred = knn.predict(X_test)\n",
    "print(\"Classification Metrics:\")\n",
    "print(f\"Accuracy: {accuracy_score(y_test, y_pred):.2f}\")\n",
    "print(\"\\nClassification Report:\")\n",
    "print(classification_report(y_test, y_pred))"
   ]
  }
 ],
 "metadata": {
  "kernelspec": {
   "display_name": "Python 3 (ipykernel)",
   "language": "python",
   "name": "python3"
  },
  "language_info": {
   "codemirror_mode": {
    "name": "ipython",
    "version": 3
   },
   "file_extension": ".py",
   "mimetype": "text/x-python",
   "name": "python",
   "nbconvert_exporter": "python",
   "pygments_lexer": "ipython3",
   "version": "3.12.4"
  }
 },
 "nbformat": 4,
 "nbformat_minor": 5
}
