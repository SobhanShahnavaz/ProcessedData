{
 "cells": [
  {
   "cell_type": "code",
   "execution_count": 5,
   "id": "07b157e9-c188-4a36-97a3-a513599cc220",
   "metadata": {},
   "outputs": [
    {
     "name": "stdout",
     "output_type": "stream",
     "text": [
      "Random Forest Accuracy: 0.261\n",
      "\n",
      "Classification Report:\n",
      "              precision    recall  f1-score   support\n",
      "\n",
      "           0       0.27      0.30      0.28       248\n",
      "           1       0.28      0.25      0.26       259\n",
      "           2       0.27      0.29      0.28       282\n",
      "           3       0.21      0.19      0.20       211\n",
      "\n",
      "    accuracy                           0.26      1000\n",
      "   macro avg       0.26      0.26      0.26      1000\n",
      "weighted avg       0.26      0.26      0.26      1000\n",
      "\n",
      "\n",
      "Feature Importance (Top 10):\n",
      "                 Feature  Importance\n",
      "3                    BMI    0.149169\n",
      "0                    Age    0.137974\n",
      "2              Weight_kg    0.131421\n",
      "1              Height_cm    0.130339\n",
      "24   Alcohol_Consumption    0.027283\n",
      "23   Genetic_Risk_Factor    0.026648\n",
      "5            Gender_Male    0.025426\n",
      "4          Gender_Female    0.025284\n",
      "22  Food_Aversions_Sweet    0.023459\n",
      "21  Food_Aversions_Spicy    0.022778\n"
     ]
    }
   ],
   "source": [
    "import pandas as pd\n",
    "from sklearn.model_selection import train_test_split\n",
    "from sklearn.preprocessing import StandardScaler\n",
    "from sklearn.ensemble import RandomForestClassifier\n",
    "from sklearn.metrics import accuracy_score, classification_report\n",
    "import joblib\n",
    "\n",
    "# Load dataset\n",
    "df = pd.read_csv(\"Personalized_Diet_RecommendationsDC.csv\")\n",
    "\n",
    "# Define features (37) and target\n",
    "features = ['Age', 'Height_cm', 'Weight_kg', 'BMI', 'Gender_Female',\n",
    "            'Gender_Male', 'Chronic_Disease_Diabetes', 'Chronic_Disease_Heart_Disease',\n",
    "            'Chronic_Disease_Hypertension', 'Chronic_Disease_Obesity']\n",
    "X = df[features]\n",
    "y = df['Recommended_Meal_Plan']\n",
    "\n",
    "# Define numeric columns for scaling\n",
    "numeric_cols = ['Age', 'Height_cm', 'Weight_kg', 'BMI']\n",
    "\n",
    "# Split data\n",
    "X_train, X_test, y_train, y_test = train_test_split(X, y, test_size=0.2, random_state=42)\n",
    "\n",
    "# Scale numeric features\n",
    "scaler = StandardScaler()\n",
    "X_train[numeric_cols] = scaler.fit_transform(X_train[numeric_cols])\n",
    "X_test[numeric_cols] = scaler.transform(X_test[numeric_cols])\n",
    "\n",
    "# Train Random Forest\n",
    "model = RandomForestClassifier(n_estimators=100, random_state=42)\n",
    "model.fit(X_train, y_train)\n",
    "\n",
    "# Predict and evaluate\n",
    "y_pred = model.predict(X_test)\n",
    "accuracy = accuracy_score(y_test, y_pred)\n",
    "print(\"Random Forest Accuracy:\", accuracy)\n",
    "print(\"\\nClassification Report:\")\n",
    "print(classification_report(y_test, y_pred))\n",
    "\n",
    "# Feature Importance\n",
    "feature_importance = pd.DataFrame({'Feature': features, 'Importance': model.feature_importances_})\n",
    "feature_importance = feature_importance.sort_values(by='Importance', ascending=False)\n",
    "print(\"\\nFeature Importance (Top 10):\")\n",
    "print(feature_importance.head(10))\n",
    "\n",
    "# Save model and scaler\n",
    "#joblib.dump(model, \"random_forest_model.pkl\")\n",
    "#joblib.dump(scaler, \"scaler_rf.pkl\")\n",
    "#print(\"\\nModel saved as 'random_forest_model.pkl'\")"
   ]
  }
 ],
 "metadata": {
  "kernelspec": {
   "display_name": "Python 3 (ipykernel)",
   "language": "python",
   "name": "python3"
  },
  "language_info": {
   "codemirror_mode": {
    "name": "ipython",
    "version": 3
   },
   "file_extension": ".py",
   "mimetype": "text/x-python",
   "name": "python",
   "nbconvert_exporter": "python",
   "pygments_lexer": "ipython3",
   "version": "3.12.4"
  }
 },
 "nbformat": 4,
 "nbformat_minor": 5
}
