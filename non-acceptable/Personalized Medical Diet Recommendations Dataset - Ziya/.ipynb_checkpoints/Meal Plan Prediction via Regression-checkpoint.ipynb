{
 "cells": [
  {
   "cell_type": "code",
   "execution_count": 1,
   "id": "fd56af6b-d234-436d-96f7-9a98802e1b3e",
   "metadata": {},
   "outputs": [
    {
     "ename": "NameError",
     "evalue": "name 'f1_score' is not defined",
     "output_type": "error",
     "traceback": [
      "\u001b[1;31m---------------------------------------------------------------------------\u001b[0m",
      "\u001b[1;31mNameError\u001b[0m                                 Traceback (most recent call last)",
      "Cell \u001b[1;32mIn[1], line 48\u001b[0m\n\u001b[0;32m     46\u001b[0m \u001b[38;5;66;03m# Evaluate\u001b[39;00m\n\u001b[0;32m     47\u001b[0m balanced_acc \u001b[38;5;241m=\u001b[39m balanced_accuracy_score(y_test, y_pred)\n\u001b[1;32m---> 48\u001b[0m macro_f1 \u001b[38;5;241m=\u001b[39m f1_score(y_test, y_pred, average\u001b[38;5;241m=\u001b[39m\u001b[38;5;124m'\u001b[39m\u001b[38;5;124mmacro\u001b[39m\u001b[38;5;124m'\u001b[39m)\n\u001b[0;32m     49\u001b[0m \u001b[38;5;28mprint\u001b[39m(\u001b[38;5;124m\"\u001b[39m\u001b[38;5;124mThreshold-Based Balanced Accuracy:\u001b[39m\u001b[38;5;124m\"\u001b[39m, balanced_acc)\n\u001b[0;32m     50\u001b[0m \u001b[38;5;28mprint\u001b[39m(\u001b[38;5;124m\"\u001b[39m\u001b[38;5;124mMacro F1-Score:\u001b[39m\u001b[38;5;124m\"\u001b[39m, macro_f1)\n",
      "\u001b[1;31mNameError\u001b[0m: name 'f1_score' is not defined"
     ]
    }
   ],
   "source": [
    "import pandas as pd\n",
    "import numpy as np\n",
    "from sklearn.model_selection import train_test_split\n",
    "from sklearn.preprocessing import StandardScaler\n",
    "from sklearn.metrics import balanced_accuracy_score, classification_report, confusion_matrix , f1_score\n",
    "\n",
    "# Load dataset\n",
    "df = pd.read_csv(\"Personalized_Diet_RecommendationsFE.csv\")\n",
    "\n",
    "# Define features\n",
    "features = [\n",
    "    'Daily_Steps', 'Cholesterol_Level', 'Protein_Intake', 'Fat_Intake',\n",
    "    'Carbohydrate_Intake', 'Blood_Pressure_Systolic', 'Blood_Sugar_Level',\n",
    "    'Age', 'Sleep_Hours', 'Dietary_Habits_Vegan', 'Food_Aversions_Salty',\n",
    "    'Macro_Average', 'Health_Score'\n",
    "]\n",
    "X = df[features]\n",
    "y_true = df['Recommended_Meal_Plan']\n",
    "\n",
    "# Split data\n",
    "X_train, X_test, y_train, y_test = train_test_split(X, y_true, test_size=0.2, random_state=42)\n",
    "\n",
    "# Scale features\n",
    "scaler = StandardScaler()\n",
    "X_train = scaler.fit_transform(X_train)\n",
    "X_test = scaler.transform(X_test)\n",
    "\n",
    "# Predict meal plans based on thresholds\n",
    "def assign_meal_plan(row):\n",
    "    protein = row['Protein_Intake']\n",
    "    fat = row['Fat_Intake']\n",
    "    carbs = row['Carbohydrate_Intake']\n",
    "    if protein > np.percentile(df['Protein_Intake'], 75):\n",
    "        return 0  # High-Protein\n",
    "    elif fat < np.percentile(df['Fat_Intake'], 25):\n",
    "        return 2  # Low-Fat\n",
    "    elif carbs < np.percentile(df['Carbohydrate_Intake'], 25):\n",
    "        return 3  # Low-Carb\n",
    "    else:\n",
    "        return 1  # Balanced\n",
    "\n",
    "# Apply to test set\n",
    "X_test_df = pd.DataFrame(X_test, columns=features)\n",
    "y_pred = X_test_df.apply(assign_meal_plan, axis=1)\n",
    "\n",
    "# Evaluate\n",
    "balanced_acc = balanced_accuracy_score(y_test, y_pred)\n",
    "macro_f1 = f1_score(y_test, y_pred, average='macro')\n",
    "print(\"Threshold-Based Balanced Accuracy:\", balanced_acc)\n",
    "print(\"Macro F1-Score:\", macro_f1)\n",
    "print(\"\\nClassification Report:\")\n",
    "print(classification_report(y_test, y_pred))\n",
    "print(\"\\nConfusion Matrix:\")\n",
    "print(confusion_matrix(y_test, y_pred))"
   ]
  }
 ],
 "metadata": {
  "kernelspec": {
   "display_name": "Python 3 (ipykernel)",
   "language": "python",
   "name": "python3"
  },
  "language_info": {
   "codemirror_mode": {
    "name": "ipython",
    "version": 3
   },
   "file_extension": ".py",
   "mimetype": "text/x-python",
   "name": "python",
   "nbconvert_exporter": "python",
   "pygments_lexer": "ipython3",
   "version": "3.12.4"
  }
 },
 "nbformat": 4,
 "nbformat_minor": 5
}
