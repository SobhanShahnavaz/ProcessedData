{
 "cells": [
  {
   "cell_type": "code",
   "execution_count": null,
   "id": "1444b899-4901-467d-bb45-6cd4fabc6844",
   "metadata": {},
   "outputs": [],
   "source": [
    "import pandas as pd\n",
    "\n",
    "# Load dataset\n",
    "df = pd.read_csv(\"Step18_Cleaned_Dataset.csv\")\n",
    "\n",
    "# Define columns to exclude (non-numeric or irrelevant)\n",
    "exclude_cols = ['User_ID'] if 'User_ID' in df.columns else []\n",
    "\n",
    "# Select numeric columns\n",
    "numeric_cols = df.select_dtypes(include=['int64', 'float64']).columns.tolist()\n",
    "numeric_cols = [col for col in numeric_cols if col not in exclude_cols]\n",
    "\n",
    "# Check target distribution\n",
    "print(\"Target Distribution:\")\n",
    "print(df['Recommended_Meal_Plan'].value_counts(normalize=True))\n",
    "\n",
    "# Check for missing values\n",
    "print(\"\\nMissing Values:\")\n",
    "print(df.isnull().sum())\n",
    "\n",
    "# Check feature correlations with target (numeric columns only)\n",
    "if numeric_cols:\n",
    "    correlations = df[numeric_cols].corr()['Recommended_Meal_Plan'].sort_values(ascending=False)\n",
    "    print(\"\\nFeature Correlations with Target:\")\n",
    "    print(correlations.head(10), \"\\n\", correlations.tail(10))\n",
    "else:\n",
    "    print(\"\\nNo numeric columns found for correlation.\")"
   ]
  }
 ],
 "metadata": {
  "kernelspec": {
   "display_name": "Python 3 (ipykernel)",
   "language": "python",
   "name": "python3"
  },
  "language_info": {
   "codemirror_mode": {
    "name": "ipython",
    "version": 3
   },
   "file_extension": ".py",
   "mimetype": "text/x-python",
   "name": "python",
   "nbconvert_exporter": "python",
   "pygments_lexer": "ipython3",
   "version": "3.12.4"
  }
 },
 "nbformat": 4,
 "nbformat_minor": 5
}
