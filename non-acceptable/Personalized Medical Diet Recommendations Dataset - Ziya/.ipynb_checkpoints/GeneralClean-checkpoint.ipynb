{
 "cells": [
  {
   "cell_type": "code",
   "execution_count": null,
   "id": "ad093531-7c70-424b-99d2-216780b14d37",
   "metadata": {},
   "outputs": [],
   "source": [
    "import pandas as pd\n",
    "\n",
    "# Load the dataset\n",
    "df = pd.read_csv(\"Personalized_Diet_Recommendations.csv\")\n",
    "\n",
    "# Check for nulls\n",
    "print(\"Missing Values per Column:\")\n",
    "print(df.isnull().sum())"
   ]
  },
  {
   "cell_type": "code",
   "execution_count": null,
   "id": "b0dfb6f0-cad7-4f5c-9b33-9b07a05199dd",
   "metadata": {},
   "outputs": [],
   "source": [
    "# Replace \"None\" with \"No_Condition\" in relevant columns\n",
    "cols_to_replace = ['Chronic_Disease', 'Allergies', 'Food_Aversions']\n",
    "df[cols_to_replace] = df[cols_to_replace].fillna(\"No_Condition\")\n",
    "\n",
    "# Verify no nulls remain\n",
    "print(\"\\nMissing Values After Cleaning:\")\n",
    "print(df.isnull().sum())"
   ]
  },
  {
   "cell_type": "code",
   "execution_count": null,
   "id": "521fbd0f-c82b-4316-b873-ceaeea1dbba6",
   "metadata": {},
   "outputs": [],
   "source": [
    "# Define new column types \n",
    "str_cols = ['Patient_ID', 'Gender', 'Chronic_Disease', 'Genetic_Risk_Factor', 'Allergies','Alcohol_Consumption',\n",
    "            'Smoking_Habit','Dietary_Habits', 'Preferred_Cuisine','Food_Aversions', 'Recommended_Meal_Plan']\n",
    "int_cols = ['Age', 'Height_cm', 'Weight_kg', 'Blood_Pressure_Systolic', 'Blood_Pressure_Diastolic',\n",
    "            'Cholesterol_Level', 'Blood_Sugar_Level', 'Daily_Steps', 'Exercise_Frequency',\n",
    "            'Caloric_Intake', 'Protein_Intake', 'Carbohydrate_Intake', 'Fat_Intake',\n",
    "            'Recommended_Calories', 'Recommended_Protein', 'Recommended_Carbs', 'Recommended_Fats']\n",
    "float_cols = ['BMI', 'Sleep_Hours']\n",
    "\n",
    "# Convert string columns\n",
    "for col in str_cols:\n",
    "    df[col] = df[col].astype(str)\n",
    "\n",
    "# Convert integer columns (handle non-numeric values)\n",
    "for col in int_cols:\n",
    "    df[col] = pd.to_numeric(df[col], errors='coerce').round().astype('Int64')  # Round and use Int64 to handle NaNs\n",
    "\n",
    "# Convert float columns\n",
    "for col in float_cols:\n",
    "    df[col] = pd.to_numeric(df[col], errors='coerce').astype(float)\n",
    "\n",
    "# Verify data types\n",
    "print(\"\\nData Types After Conversion:\")\n",
    "print(df.dtypes)\n"
   ]
  },
  {
   "cell_type": "code",
   "execution_count": 4,
   "id": "5860cf77-ece6-41e4-bb03-96e34b3235b6",
   "metadata": {},
   "outputs": [
    {
     "name": "stdout",
     "output_type": "stream",
     "text": [
      "Rows with BMI discrepancy (>1 unit): 0\n",
      "Rows with invalid caloric/nutrient values: 0\n"
     ]
    }
   ],
   "source": [
    "# Step 3.1: Validate BMI\n",
    "df['Calculated_BMI'] = df['Weight_kg'] / (df['Height_cm'] / 100) ** 2\n",
    "df['BMI_Error'] = abs(df['BMI'] - df['Calculated_BMI'])\n",
    "print(\"Rows with BMI discrepancy (>1 unit):\", len(df[df['BMI_Error'] > 1]))\n",
    "df = df.drop(columns=['Calculated_BMI', 'BMI_Error'])\n",
    "# Step 3.2: Check for invalid values\n",
    "invalid_caloric = df[(df['Caloric_Intake'] <= 0) | (df['Recommended_Calories'] <= 0) |\n",
    "                    (df['Protein_Intake'] <= 0) | (df['Carbohydrate_Intake'] <= 0) |\n",
    "                    (df['Fat_Intake'] <= 0) | (df['Recommended_Protein'] <= 0) |\n",
    "                    (df['Recommended_Carbs'] <= 0) | (df['Recommended_Fats'] <= 0)]\n",
    "print(\"Rows with invalid caloric/nutrient values:\", len(invalid_caloric))"
   ]
  },
  {
   "cell_type": "code",
   "execution_count": null,
   "id": "fe55205a-5fae-46ab-bf4c-b24e4da63b3c",
   "metadata": {},
   "outputs": [],
   "source": [
    "int_cols = ['Height_cm', 'Age', 'Weight_kg', 'Blood_Pressure_Systolic', 'Blood_Pressure_Diastolic',\n",
    "            'Cholesterol_Level', 'Blood_Sugar_Level', 'Daily_Steps', 'Exercise_Frequency',\n",
    "            'Caloric_Intake', 'Protein_Intake', 'Carbohydrate_Intake', 'Fat_Intake',\n",
    "            'Recommended_Calories', 'Recommended_Protein', 'Recommended_Carbs', 'Recommended_Fats']\n",
    "float_cols = ['BMI', 'Sleep_Hours']\n",
    "\n",
    "# Step 3.3: Cap outliers using IQR method\n",
    "def cap_outliers_iqr(df, col):\n",
    "    Q1 = df[col].quantile(0.25)\n",
    "    Q3 = df[col].quantile(0.75)\n",
    "    IQR = Q3 - Q1\n",
    "    lower_bound = Q1 - 1.5 * IQR\n",
    "    upper_bound = Q3 + 1.5 * IQR\n",
    "    print(f\"Outliers in {col} (IQR method):\", \n",
    "          len(df[(df[col] < lower_bound) | (df[col] > upper_bound)]))\n",
    "    df[col] = df[col].clip(lower=lower_bound, upper=upper_bound)\n",
    "    return df\n",
    "\n",
    "for col in int_cols + float_cols:\n",
    "    df = cap_outliers_iqr(df, col)"
   ]
  },
  {
   "cell_type": "code",
   "execution_count": 6,
   "id": "84594f9b-542f-4cef-a57c-f920b572b387",
   "metadata": {},
   "outputs": [
    {
     "name": "stdout",
     "output_type": "stream",
     "text": [
      "Number of duplicate Patient_IDs: 0\n",
      "Number of full row duplicates: 0\n"
     ]
    }
   ],
   "source": [
    "#Check for duplicate Patient_ID\n",
    "duplicate_ids = df[df['Patient_ID'].duplicated(keep=False)]\n",
    "print(\"Number of duplicate Patient_IDs:\", len(duplicate_ids))\n",
    "#Check for full row duplicates\n",
    "full_duplicates = df[df.duplicated(keep=False)]\n",
    "print(\"Number of full row duplicates:\", len(full_duplicates))"
   ]
  },
  {
   "cell_type": "code",
   "execution_count": null,
   "id": "83f1e3ad-9320-4fe7-92b8-9a7e82d4d90f",
   "metadata": {},
   "outputs": [],
   "source": [
    "# Define categorical columns\n",
    "str_cols = ['Gender', 'Chronic_Disease', 'Genetic_Risk_Factor', 'Allergies',\n",
    "            'Alcohol_Consumption', 'Smoking_Habit', 'Dietary_Habits', 'Preferred_Cuisine',\n",
    "            'Food_Aversions', 'Recommended_Meal_Plan']\n",
    "\n",
    "\n",
    "# Step 5.1: Inspect unique values and value counts\n",
    "print(\"Unique Values and Value Counts in Categorical Columns:\")\n",
    "for col in str_cols:\n",
    "    print(f\"\\n{col}:\")\n",
    "    print(\"Unique Values:\", df[col].unique())\n",
    "    print(\"Value Counts:\\n\", df[col].value_counts())"
   ]
  },
  {
   "cell_type": "code",
   "execution_count": null,
   "id": "24817d9e-b9bd-4966-b1ec-04bc53a25b1c",
   "metadata": {
    "scrolled": true
   },
   "outputs": [],
   "source": [
    "# Define numeric columns\n",
    "int_cols = ['Age', 'Height_cm', 'Weight_kg', 'Blood_Pressure_Systolic', 'Blood_Pressure_Diastolic',\n",
    "            'Cholesterol_Level', 'Blood_Sugar_Level', 'Daily_Steps', 'Exercise_Frequency',\n",
    "            'Caloric_Intake', 'Protein_Intake', 'Carbohydrate_Intake', 'Fat_Intake',\n",
    "            'Recommended_Calories', 'Recommended_Protein', 'Recommended_Carbs', 'Recommended_Fats']\n",
    "float_cols = ['BMI', 'Sleep_Hours']\n",
    "\n",
    "# Step 6.1: Check BMI consistency\n",
    "print(\"Total rows:\", len(df))\n",
    "df['Calculated_BMI'] = df['Weight_kg'] / (df['Height_cm'] / 100) ** 2\n",
    "df['BMI_Error'] = abs(df['BMI'] - df['Calculated_BMI'])\n",
    "invalid_bmi = df[df['BMI_Error'] > 1]\n",
    "print(\"Rows with BMI discrepancy (>1 unit):\", len(invalid_bmi))\n",
    "# Drop temporary columns (no changes saved to original columns)\n",
    "df = df.drop(columns=['Calculated_BMI', 'BMI_Error'])\n",
    "\n",
    "# Step 6.2: Check for negative or zero values in columns that must be positive\n",
    "positive_cols = ['Age', 'Height_cm', 'Weight_kg', 'Caloric_Intake', 'Protein_Intake',\n",
    "                'Carbohydrate_Intake', 'Fat_Intake', 'Recommended_Calories',\n",
    "                'Recommended_Protein', 'Recommended_Carbs', 'Recommended_Fats', 'Sleep_Hours']\n",
    "for col in positive_cols:\n",
    "    invalid_rows = df[df[col] <= 0]\n",
    "    print(f\"Rows with invalid (≤0) values in {col}:\", len(invalid_rows))\n",
    "\n",
    "# Check for negative values in other numeric columns\n",
    "neg_cols = ['Cholesterol_Level', 'Blood_Sugar_Level']\n",
    "for col in neg_cols:\n",
    "    invalid_rows = df[df[col] <= 0]\n",
    "    print(f\"Rows with invalid (≤0) values in {col}:\", len(invalid_rows))\n",
    "\n",
    "# Step 6.3: Check blood pressure (Systolic > Diastolic)\n",
    "invalid_bp = df[df['Blood_Pressure_Systolic'] <= df['Blood_Pressure_Diastolic']]\n",
    "print(\"Rows with invalid blood pressure (Systolic ≤ Diastolic):\", len(invalid_bp))\n",
    "\n",
    "# Step 6.4: Check Exercise_Frequency (0–7)\n",
    "invalid_exercise = df[(df['Exercise_Frequency'] < 0) | (df['Exercise_Frequency'] > 7)]\n",
    "print(\"Rows with invalid Exercise_Frequency (<0 or >7):\", len(invalid_exercise))\n",
    "\n",
    "# Step 6.5: Check Daily_Steps (≥0)\n",
    "invalid_steps = df[df['Daily_Steps'] < 0]\n",
    "print(\"Rows with invalid Daily_Steps (<0):\", len(invalid_steps))"
   ]
  },
  {
   "cell_type": "code",
   "execution_count": null,
   "id": "563e53aa-89c7-413b-8496-c4766af8cf11",
   "metadata": {},
   "outputs": [],
   "source": [
    "df.to_csv(\"Personalized_Diet_RecommendationsGC.csv\", index=False)"
   ]
  }
 ],
 "metadata": {
  "kernelspec": {
   "display_name": "Python 3 (ipykernel)",
   "language": "python",
   "name": "python3"
  },
  "language_info": {
   "codemirror_mode": {
    "name": "ipython",
    "version": 3
   },
   "file_extension": ".py",
   "mimetype": "text/x-python",
   "name": "python",
   "nbconvert_exporter": "python",
   "pygments_lexer": "ipython3",
   "version": "3.12.4"
  }
 },
 "nbformat": 4,
 "nbformat_minor": 5
}
