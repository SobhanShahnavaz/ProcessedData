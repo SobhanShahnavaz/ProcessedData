{
 "cells": [
  {
   "cell_type": "code",
   "execution_count": null,
   "id": "3e7a01ee-1147-4513-a963-21f668828c53",
   "metadata": {},
   "outputs": [],
   "source": [
    "import pandas as pd\n",
    "from sklearn.preprocessing import StandardScaler\n",
    "from sklearn.cluster import KMeans\n",
    "from sklearn.metrics import silhouette_score\n",
    "import joblib\n",
    "\n",
    "# Load dataset\n",
    "df = pd.read_csv(\"Personalized_Diet_RecommendationsDC.csv\")\n",
    "\n",
    "# Define top 10 features based on importance\n",
    "selected_features = [\n",
    "    'Daily_Steps', 'Cholesterol_Level', 'Caloric_Intake', 'Protein_Intake',\n",
    "    'Fat_Intake', 'Carbohydrate_Intake', 'Blood_Pressure_Systolic',\n",
    "    'Blood_Sugar_Level', 'Age', 'Sleep_Hours'\n",
    "]\n",
    "X = df[selected_features]\n",
    "\n",
    "# Scale features\n",
    "scaler = StandardScaler()\n",
    "X_scaled = scaler.fit_transform(X)\n",
    "\n",
    "# Apply K-Means (4 clusters to match 4 meal plans)\n",
    "kmeans = KMeans(n_clusters=4, random_state=42)\n",
    "clusters = kmeans.fit_predict(X_scaled)\n",
    "\n",
    "# Evaluate clustering\n",
    "sil_score = silhouette_score(X_scaled, clusters)\n",
    "print(\"Silhouette Score:\", sil_score)\n",
    "\n",
    "# Add clusters to dataset\n",
    "df['Cluster'] = clusters\n",
    "print(\"\\nCluster Distribution:\")\n",
    "print(df['Cluster'].value_counts(normalize=True))\n",
    "\n",
    "# Compare clusters with Recommended_Meal_Plan\n",
    "print(\"\\nCluster vs. Recommended_Meal_Plan:\")\n",
    "print(pd.crosstab(df['Cluster'], df['Recommended_Meal_Plan'], normalize='index'))\n",
    "\n",
    "# Save model and scaler\n",
    "joblib.dump(kmeans, \"kmeans_model.pkl\")\n",
    "joblib.dump(scaler, \"scaler_kmeans.pkl\")\n",
    "print(\"\\nModel saved as 'kmeans_model.pkl'\")"
   ]
  }
 ],
 "metadata": {
  "kernelspec": {
   "display_name": "Python 3 (ipykernel)",
   "language": "python",
   "name": "python3"
  },
  "language_info": {
   "codemirror_mode": {
    "name": "ipython",
    "version": 3
   },
   "file_extension": ".py",
   "mimetype": "text/x-python",
   "name": "python",
   "nbconvert_exporter": "python",
   "pygments_lexer": "ipython3",
   "version": "3.12.4"
  }
 },
 "nbformat": 4,
 "nbformat_minor": 5
}
