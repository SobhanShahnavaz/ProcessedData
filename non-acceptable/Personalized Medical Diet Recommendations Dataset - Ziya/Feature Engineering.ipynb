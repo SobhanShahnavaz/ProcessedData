{
 "cells": [
  {
   "cell_type": "code",
   "execution_count": 1,
   "id": "db6720c5-76e7-4ba7-99d7-eaaceb4a9e44",
   "metadata": {},
   "outputs": [
    {
     "name": "stdout",
     "output_type": "stream",
     "text": [
      "Engineered dataset saved as 'Personalized_Diet_RecommendationFE.csv'\n"
     ]
    }
   ],
   "source": [
    "import pandas as pd\n",
    "from sklearn.preprocessing import StandardScaler\n",
    "\n",
    "# Load dataset\n",
    "df = pd.read_csv(\"Personalized_Diet_RecommendationsDC.csv\")\n",
    "\n",
    "# Define base features\n",
    "base_features = [\n",
    "    'Daily_Steps', 'Cholesterol_Level', 'Caloric_Intake', 'Protein_Intake',\n",
    "    'Fat_Intake', 'Carbohydrate_Intake', 'Blood_Pressure_Systolic',\n",
    "    'Blood_Sugar_Level', 'Age', 'Sleep_Hours', 'Dietary_Habits_Vegan',\n",
    "    'Food_Aversions_Salty'\n",
    "]\n",
    "\n",
    "# Create interaction terms and aggregates\n",
    "df['Caloric_Protein'] = df['Caloric_Intake'] * df['Protein_Intake']\n",
    "df['Macro_Average'] = (df['Protein_Intake'] + df['Carbohydrate_Intake'] + df['Fat_Intake']) / 3\n",
    "df['Health_Score'] = df['Daily_Steps'] / (df['Cholesterol_Level'] + df['Blood_Sugar_Level'] + 1)\n",
    "\n",
    "# Define engineered features\n",
    "engineered_features = base_features + ['Caloric_Protein', 'Macro_Average', 'Health_Score']\n",
    "\n",
    "# Save engineered dataset\n",
    "df[engineered_features + ['Recommended_Meal_Plan']].to_csv(\"Personalized_Diet_RecommendationsFE.csv\", index=False)\n",
    "print(\"Engineered dataset saved as 'Personalized_Diet_RecommendationFE.csv'\")"
   ]
  }
 ],
 "metadata": {
  "kernelspec": {
   "display_name": "Python 3 (ipykernel)",
   "language": "python",
   "name": "python3"
  },
  "language_info": {
   "codemirror_mode": {
    "name": "ipython",
    "version": 3
   },
   "file_extension": ".py",
   "mimetype": "text/x-python",
   "name": "python",
   "nbconvert_exporter": "python",
   "pygments_lexer": "ipython3",
   "version": "3.12.4"
  }
 },
 "nbformat": 4,
 "nbformat_minor": 5
}
