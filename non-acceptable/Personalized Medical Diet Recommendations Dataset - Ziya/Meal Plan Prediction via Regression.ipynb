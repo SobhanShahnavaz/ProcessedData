{
 "cells": [
  {
   "cell_type": "code",
   "execution_count": 3,
   "id": "fd56af6b-d234-436d-96f7-9a98802e1b3e",
   "metadata": {},
   "outputs": [
    {
     "name": "stdout",
     "output_type": "stream",
     "text": [
      "Threshold-Based Balanced Accuracy: 0.25\n",
      "Macro F1-Score: 0.10998439937597504\n",
      "\n",
      "Classification Report:\n",
      "              precision    recall  f1-score   support\n",
      "\n",
      "           0       0.00      0.00      0.00       248\n",
      "           1       0.00      0.00      0.00       259\n",
      "           2       0.28      1.00      0.44       282\n",
      "           3       0.00      0.00      0.00       211\n",
      "\n",
      "    accuracy                           0.28      1000\n",
      "   macro avg       0.07      0.25      0.11      1000\n",
      "weighted avg       0.08      0.28      0.12      1000\n",
      "\n",
      "\n",
      "Confusion Matrix:\n",
      "[[  0   0 248   0]\n",
      " [  0   0 259   0]\n",
      " [  0   0 282   0]\n",
      " [  0   0 211   0]]\n"
     ]
    },
    {
     "name": "stderr",
     "output_type": "stream",
     "text": [
      "C:\\ProgramData\\anaconda3\\Lib\\site-packages\\sklearn\\metrics\\_classification.py:1509: UndefinedMetricWarning: Precision is ill-defined and being set to 0.0 in labels with no predicted samples. Use `zero_division` parameter to control this behavior.\n",
      "  _warn_prf(average, modifier, f\"{metric.capitalize()} is\", len(result))\n",
      "C:\\ProgramData\\anaconda3\\Lib\\site-packages\\sklearn\\metrics\\_classification.py:1509: UndefinedMetricWarning: Precision is ill-defined and being set to 0.0 in labels with no predicted samples. Use `zero_division` parameter to control this behavior.\n",
      "  _warn_prf(average, modifier, f\"{metric.capitalize()} is\", len(result))\n",
      "C:\\ProgramData\\anaconda3\\Lib\\site-packages\\sklearn\\metrics\\_classification.py:1509: UndefinedMetricWarning: Precision is ill-defined and being set to 0.0 in labels with no predicted samples. Use `zero_division` parameter to control this behavior.\n",
      "  _warn_prf(average, modifier, f\"{metric.capitalize()} is\", len(result))\n"
     ]
    }
   ],
   "source": [
    "import pandas as pd\n",
    "import numpy as np\n",
    "from sklearn.model_selection import train_test_split\n",
    "from sklearn.preprocessing import StandardScaler\n",
    "from sklearn.metrics import balanced_accuracy_score, classification_report, confusion_matrix , f1_score\n",
    "\n",
    "# Load dataset\n",
    "df = pd.read_csv(\"Personalized_Diet_RecommendationsFE.csv\")\n",
    "\n",
    "# Define features\n",
    "features = [\n",
    "    'Daily_Steps', 'Cholesterol_Level', 'Protein_Intake', 'Fat_Intake',\n",
    "    'Carbohydrate_Intake', 'Blood_Pressure_Systolic', 'Blood_Sugar_Level',\n",
    "    'Age', 'Sleep_Hours', 'Dietary_Habits_Vegan', 'Food_Aversions_Salty',\n",
    "    'Macro_Average', 'Health_Score'\n",
    "]\n",
    "X = df[features]\n",
    "y_true = df['Recommended_Meal_Plan']\n",
    "\n",
    "# Split data\n",
    "X_train, X_test, y_train, y_test = train_test_split(X, y_true, test_size=0.2, random_state=42)\n",
    "\n",
    "# Scale features\n",
    "scaler = StandardScaler()\n",
    "X_train = scaler.fit_transform(X_train)\n",
    "X_test = scaler.transform(X_test)\n",
    "\n",
    "# Predict meal plans based on thresholds\n",
    "def assign_meal_plan(row):\n",
    "    protein = row['Protein_Intake']\n",
    "    fat = row['Fat_Intake']\n",
    "    carbs = row['Carbohydrate_Intake']\n",
    "    if protein > np.percentile(df['Protein_Intake'], 75):\n",
    "        return 0  # High-Protein\n",
    "    elif fat < np.percentile(df['Fat_Intake'], 25):\n",
    "        return 2  # Low-Fat\n",
    "    elif carbs < np.percentile(df['Carbohydrate_Intake'], 25):\n",
    "        return 3  # Low-Carb\n",
    "    else:\n",
    "        return 1  # Balanced\n",
    "\n",
    "# Apply to test set\n",
    "X_test_df = pd.DataFrame(X_test, columns=features)\n",
    "y_pred = X_test_df.apply(assign_meal_plan, axis=1)\n",
    "\n",
    "# Evaluate\n",
    "balanced_acc = balanced_accuracy_score(y_test, y_pred)\n",
    "macro_f1 = f1_score(y_test, y_pred, average='macro')\n",
    "print(\"Threshold-Based Balanced Accuracy:\", balanced_acc)\n",
    "print(\"Macro F1-Score:\", macro_f1)\n",
    "print(\"\\nClassification Report:\")\n",
    "print(classification_report(y_test, y_pred))\n",
    "print(\"\\nConfusion Matrix:\")\n",
    "print(confusion_matrix(y_test, y_pred))"
   ]
  }
 ],
 "metadata": {
  "kernelspec": {
   "display_name": "Python 3 (ipykernel)",
   "language": "python",
   "name": "python3"
  },
  "language_info": {
   "codemirror_mode": {
    "name": "ipython",
    "version": 3
   },
   "file_extension": ".py",
   "mimetype": "text/x-python",
   "name": "python",
   "nbconvert_exporter": "python",
   "pygments_lexer": "ipython3",
   "version": "3.12.4"
  }
 },
 "nbformat": 4,
 "nbformat_minor": 5
}
