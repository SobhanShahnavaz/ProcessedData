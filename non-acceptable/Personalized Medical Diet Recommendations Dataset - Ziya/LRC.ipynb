{
 "cells": [
  {
   "cell_type": "code",
   "execution_count": 10,
   "id": "907600d2-90c4-4735-b870-f8d5dffd25e2",
   "metadata": {},
   "outputs": [
    {
     "name": "stdout",
     "output_type": "stream",
     "text": [
      "Logistic Regression Accuracy: 0.255\n",
      "\n",
      "Classification Report:\n",
      "              precision    recall  f1-score   support\n",
      "\n",
      "           0       0.27      0.29      0.28       248\n",
      "           1       0.25      0.20      0.23       259\n",
      "           2       0.27      0.32      0.29       282\n",
      "           3       0.22      0.19      0.20       211\n",
      "\n",
      "    accuracy                           0.26      1000\n",
      "   macro avg       0.25      0.25      0.25      1000\n",
      "weighted avg       0.25      0.26      0.25      1000\n",
      "\n",
      "\n",
      "Feature Importance (Top 10):\n",
      "                          Feature  Importance\n",
      "3                             BMI    0.075335\n",
      "11       Chronic_Disease_Diabetes    0.074501\n",
      "2                       Weight_kg    0.073584\n",
      "12  Chronic_Disease_Heart_Disease    0.065483\n",
      "9                   Gender_Female    0.060609\n",
      "1                       Height_cm    0.050404\n",
      "13   Chronic_Disease_Hypertension    0.044753\n",
      "10                    Gender_Male    0.031115\n",
      "0                             Age    0.027391\n",
      "14        Chronic_Disease_Obesity    0.024619\n"
     ]
    }
   ],
   "source": [
    "import pandas as pd\n",
    "from sklearn.model_selection import train_test_split\n",
    "from sklearn.preprocessing import StandardScaler\n",
    "from sklearn.linear_model import LogisticRegression\n",
    "from sklearn.metrics import accuracy_score, classification_report\n",
    "import numpy as np\n",
    "import joblib\n",
    "\n",
    "# Load dataset\n",
    "df = pd.read_csv(\"Personalized_Diet_RecommendationsDC.csv\")\n",
    "\n",
    "# Define features (37) and target\n",
    "features = ['Age', 'Height_cm', 'Weight_kg', 'BMI', 'Cholesterol_Level', 'Blood_Sugar_Level',\n",
    "            'Daily_Steps', 'Exercise_Frequency', 'Sleep_Hours', 'Gender_Female',\n",
    "            'Gender_Male', 'Chronic_Disease_Diabetes', 'Chronic_Disease_Heart_Disease',\n",
    "            'Chronic_Disease_Hypertension', 'Chronic_Disease_Obesity']\n",
    "X = df[features]\n",
    "y = df['Recommended_Meal_Plan']\n",
    "\n",
    "# Define numeric columns for scaling\n",
    "numeric_cols = ['Age', 'Height_cm', 'Weight_kg', 'BMI', 'Cholesterol_Level', 'Blood_Sugar_Level',\n",
    "                'Daily_Steps', 'Exercise_Frequency', 'Sleep_Hours']\n",
    "\n",
    "# Split data\n",
    "X_train, X_test, y_train, y_test = train_test_split(X, y, test_size=0.2, random_state=42)\n",
    "\n",
    "# Scale numeric features\n",
    "scaler = StandardScaler()\n",
    "X_train[numeric_cols] = scaler.fit_transform(X_train[numeric_cols])\n",
    "X_test[numeric_cols] = scaler.transform(X_test[numeric_cols])\n",
    "\n",
    "# Train Logistic Regression\n",
    "model = LogisticRegression(multi_class='multinomial', max_iter=1000, random_state=42)\n",
    "model.fit(X_train, y_train)\n",
    "\n",
    "# Predict and evaluate\n",
    "y_pred = model.predict(X_test)\n",
    "accuracy = accuracy_score(y_test, y_pred)\n",
    "print(\"Logistic Regression Accuracy:\", accuracy)\n",
    "print(\"\\nClassification Report:\")\n",
    "print(classification_report(y_test, y_pred))\n",
    "\n",
    "# Feature Importance (absolute coefficients)\n",
    "coef = np.abs(model.coef_).mean(axis=0)  # Average across classes\n",
    "feature_importance = pd.DataFrame({'Feature': features, 'Importance': coef})\n",
    "feature_importance = feature_importance.sort_values(by='Importance', ascending=False)\n",
    "print(\"\\nFeature Importance (Top 10):\")\n",
    "print(feature_importance.head(10))\n",
    "\n",
    "# Save model and scaler\n",
    "#joblib.dump(model, \"logistic_regression_model.pkl\")\n",
    "#joblib.dump(scaler, \"scaler_logistic.pkl\")\n",
    "#print(\"\\nModel saved as 'logistic_regression_model.pkl'\")"
   ]
  },
  {
   "cell_type": "code",
   "execution_count": null,
   "id": "3988e3a6-ffa3-4674-af59-78ddfdc222b7",
   "metadata": {},
   "outputs": [],
   "source": []
  }
 ],
 "metadata": {
  "kernelspec": {
   "display_name": "Python 3 (ipykernel)",
   "language": "python",
   "name": "python3"
  },
  "language_info": {
   "codemirror_mode": {
    "name": "ipython",
    "version": 3
   },
   "file_extension": ".py",
   "mimetype": "text/x-python",
   "name": "python",
   "nbconvert_exporter": "python",
   "pygments_lexer": "ipython3",
   "version": "3.12.4"
  }
 },
 "nbformat": 4,
 "nbformat_minor": 5
}
