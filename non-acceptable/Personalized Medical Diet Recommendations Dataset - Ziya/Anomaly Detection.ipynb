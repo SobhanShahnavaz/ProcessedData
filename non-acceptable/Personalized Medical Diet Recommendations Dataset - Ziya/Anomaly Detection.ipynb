{
 "cells": [
  {
   "cell_type": "code",
   "execution_count": 3,
   "id": "9b7b2a92-6e30-4a26-8076-fec2cd4bdf7d",
   "metadata": {},
   "outputs": [
    {
     "name": "stdout",
     "output_type": "stream",
     "text": [
      "Anomaly Distribution:\n",
      "Anomaly\n",
      " 1    0.9\n",
      "-1    0.1\n",
      "Name: proportion, dtype: float64\n",
      "\n",
      "Sample Anomalies (10 rows):\n",
      "    Recommended_Meal_Plan  Caloric_Intake  Protein_Intake  \\\n",
      "6                       3            1568             178   \n",
      "9                       3            1376             166   \n",
      "27                      3            3472             175   \n",
      "33                      3            3417             174   \n",
      "37                      1            1979             110   \n",
      "46                      3            2891             185   \n",
      "48                      3            2761             153   \n",
      "56                      1            1978             141   \n",
      "57                      3            1360              87   \n",
      "78                      2            2619              65   \n",
      "\n",
      "    Carbohydrate_Intake  Fat_Intake  \n",
      "6                   366          29  \n",
      "9                   138         146  \n",
      "27                  361          81  \n",
      "33                  157         123  \n",
      "37                  114          28  \n",
      "46                  253         120  \n",
      "48                  397         134  \n",
      "56                  129         125  \n",
      "57                  101          93  \n",
      "78                  279         146  \n",
      "\n",
      "Anomaly dataset saved as 'Personalized_Diet_RecommendationsFEanom.csv'\n"
     ]
    }
   ],
   "source": [
    "import pandas as pd\n",
    "from sklearn.preprocessing import StandardScaler\n",
    "from sklearn.ensemble import IsolationForest\n",
    "\n",
    "# Load dataset\n",
    "df = pd.read_csv(\"Personalized_Diet_RecommendationsFE.csv\")\n",
    "\n",
    "# Define features\n",
    "features = [\n",
    "    'Daily_Steps', 'Cholesterol_Level', 'Caloric_Intake', 'Protein_Intake',\n",
    "    'Fat_Intake', 'Carbohydrate_Intake', 'Blood_Pressure_Systolic',\n",
    "    'Blood_Sugar_Level', 'Age', 'Sleep_Hours', 'Macro_Average', 'Health_Score'\n",
    "]\n",
    "X = df[features]\n",
    "\n",
    "# Scale features\n",
    "scaler = StandardScaler()\n",
    "X_scaled = scaler.fit_transform(X)\n",
    "\n",
    "# Apply Isolation Forest\n",
    "iso_forest = IsolationForest(contamination=0.1, random_state=42)\n",
    "anomalies = iso_forest.fit_predict(X_scaled)\n",
    "\n",
    "# Add anomaly labels\n",
    "df['Anomaly'] = anomalies  # -1 for anomalies, 1 for normal\n",
    "print(\"Anomaly Distribution:\")\n",
    "print(df['Anomaly'].value_counts(normalize=True))\n",
    "\n",
    "# Inspect anomalies\n",
    "print(\"\\nSample Anomalies (10 rows):\")\n",
    "print(df[df['Anomaly'] == -1][[ 'Recommended_Meal_Plan', 'Caloric_Intake', 'Protein_Intake', 'Carbohydrate_Intake', 'Fat_Intake']].head(10))\n",
    "\n",
    "# Save results\n",
    "df.to_csv(\"Personalized_Diet_RecommendationsFEanom.csv\", index=False)\n",
    "print(\"\\nAnomaly dataset saved as 'Personalized_Diet_RecommendationsFEanom.csv'\")"
   ]
  }
 ],
 "metadata": {
  "kernelspec": {
   "display_name": "Python 3 (ipykernel)",
   "language": "python",
   "name": "python3"
  },
  "language_info": {
   "codemirror_mode": {
    "name": "ipython",
    "version": 3
   },
   "file_extension": ".py",
   "mimetype": "text/x-python",
   "name": "python",
   "nbconvert_exporter": "python",
   "pygments_lexer": "ipython3",
   "version": "3.12.4"
  }
 },
 "nbformat": 4,
 "nbformat_minor": 5
}
