{
 "cells": [
  {
   "cell_type": "code",
   "execution_count": 5,
   "id": "2be4bc05-1233-4a6d-9ebb-6bb40ef25c08",
   "metadata": {},
   "outputs": [
    {
     "name": "stdout",
     "output_type": "stream",
     "text": [
      "Unique Recommended_Meal_Plan Values:\n",
      "[0 1 2 3]\n",
      "\n",
      "Sample Data (10 rows):\n",
      "  Patient_ID  Recommended_Meal_Plan  Caloric_Intake  Protein_Intake  \\\n",
      "0     P00001                      0            2593             105   \n",
      "1     P00002                      1            1852              69   \n",
      "2     P00003                      0            2737             183   \n",
      "3     P00004                      0            3289             135   \n",
      "4     P00005                      0            2405             167   \n",
      "5     P00006                      2            3487              75   \n",
      "6     P00007                      3            1568             178   \n",
      "7     P00008                      1            1412              75   \n",
      "8     P00009                      2            3356             113   \n",
      "9     P00010                      3            1376             166   \n",
      "\n",
      "   Carbohydrate_Intake  Fat_Intake  \n",
      "0                  179         143  \n",
      "1                  315          75  \n",
      "2                  103         148  \n",
      "3                  371         120  \n",
      "4                  298          48  \n",
      "5                  124          56  \n",
      "6                  366          29  \n",
      "7                  298         133  \n",
      "8                  152          23  \n",
      "9                  138         146  \n"
     ]
    }
   ],
   "source": [
    "import pandas as pd\n",
    "\n",
    "# Load dataset\n",
    "df = pd.read_csv(\"Personalized_Diet_RecommendationsDC.csv\")\n",
    "\n",
    "# Check unique values in Recommended_Meal_Plan\n",
    "print(\"Unique Recommended_Meal_Plan Values:\")\n",
    "print(df['Recommended_Meal_Plan'].unique())\n",
    "\n",
    "# Sample 10 rows to inspect\n",
    "print(\"\\nSample Data (10 rows):\")\n",
    "print(df[['Patient_ID', 'Recommended_Meal_Plan', 'Caloric_Intake', 'Protein_Intake', 'Carbohydrate_Intake', 'Fat_Intake']].head(10))"
   ]
  }
 ],
 "metadata": {
  "kernelspec": {
   "display_name": "Python 3 (ipykernel)",
   "language": "python",
   "name": "python3"
  },
  "language_info": {
   "codemirror_mode": {
    "name": "ipython",
    "version": 3
   },
   "file_extension": ".py",
   "mimetype": "text/x-python",
   "name": "python",
   "nbconvert_exporter": "python",
   "pygments_lexer": "ipython3",
   "version": "3.12.4"
  }
 },
 "nbformat": 4,
 "nbformat_minor": 5
}
