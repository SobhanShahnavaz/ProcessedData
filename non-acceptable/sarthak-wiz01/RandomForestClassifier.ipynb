{
 "cells": [
  {
   "cell_type": "code",
   "execution_count": 1,
   "id": "55b667f1-571d-4cbd-9405-d79ccc8b928e",
   "metadata": {},
   "outputs": [],
   "source": [
    "import pandas as pd\n",
    "import numpy as np\n",
    "from sklearn.model_selection import train_test_split\n",
    "from sklearn.preprocessing import StandardScaler\n",
    "from imblearn.over_sampling import SMOTE\n",
    "from sklearn.ensemble import RandomForestClassifier\n",
    "from sklearn.metrics import accuracy_score, classification_report\n",
    "from collections import Counter\n",
    "import joblib\n",
    "from sklearn.preprocessing import LabelEncoder"
   ]
  },
  {
   "cell_type": "code",
   "execution_count": 2,
   "id": "c6171903-918e-4ac8-8864-e5278c778f6e",
   "metadata": {},
   "outputs": [
    {
     "name": "stderr",
     "output_type": "stream",
     "text": [
      "C:\\Users\\Administrator\\AppData\\Local\\Temp\\ipykernel_7368\\2514516355.py:25: SettingWithCopyWarning: \n",
      "A value is trying to be set on a copy of a slice from a DataFrame.\n",
      "Try using .loc[row_indexer,col_indexer] = value instead\n",
      "\n",
      "See the caveats in the documentation: https://pandas.pydata.org/pandas-docs/stable/user_guide/indexing.html#returning-a-view-versus-a-copy\n",
      "  X[['Age', 'Height', 'Weight', 'BMI']] = scaler.fit_transform(X[['Age', 'Height', 'Weight', 'BMI']])\n"
     ]
    }
   ],
   "source": [
    "# Load dataset\n",
    "df = pd.read_csv(\"nutrition_dataset_cleaned.csv\")\n",
    "\n",
    "# Fix duplicate goal columns\n",
    "if 'Goal_Weight Maintenance' in df.columns and 'Goal_Maintenance' in df.columns:\n",
    "    df['Goal_Maintenance'] = df[['Goal_Maintenance', 'Goal_Weight Maintenance']].max(axis=1)\n",
    "    df = df.drop(columns=['Goal_Weight Maintenance'])\n",
    "\n",
    "# Create new feature: BMI\n",
    "df['BMI'] = df['Weight'] / (df['Height'] / 100) ** 2\n",
    "\n",
    "# Merge low-sample categories\n",
    "df['Breakfast Category'] = df['Breakfast Category'].replace(['yogurt-based', 'egg-based'], 'other')\n",
    "le = LabelEncoder()\n",
    "df['Breakfast Category Encoded'] = le.fit_transform(df['Breakfast Category'])\n",
    "\n",
    "# Define features and target\n",
    "X = df[['Age', 'Gender', 'Height', 'Weight', 'Activity_Lightly Active', 'Activity_Moderately Active',\n",
    "        'Activity_Sedentary', 'Activity_Very Active', 'Goal_Maintenance', 'Goal_Muscle Gain',\n",
    "        'Goal_Weight Loss', 'Diet_Omnivore', 'Diet_Vegan', 'Diet_Vegetarian', 'BMI']]\n",
    "y = df['Breakfast Category Encoded']\n",
    "\n",
    "# Scale numerical features\n",
    "scaler = StandardScaler()\n",
    "X[['Age', 'Height', 'Weight', 'BMI']] = scaler.fit_transform(X[['Age', 'Height', 'Weight', 'BMI']])"
   ]
  },
  {
   "cell_type": "code",
   "execution_count": 5,
   "id": "227ed66c-f605-4573-a066-4ac1190345d0",
   "metadata": {},
   "outputs": [
    {
     "name": "stdout",
     "output_type": "stream",
     "text": [
      "\n",
      "Random Forest Results:\n",
      "Accuracy: 0.65\n",
      "Classification Report:\n",
      "               precision    recall  f1-score   support\n",
      "\n",
      "oatmeal-based       0.42      0.33      0.37        24\n",
      "        other       0.65      0.72      0.68        39\n",
      "pancake-based       0.00      0.00      0.00         2\n",
      "   tofu-based       0.81      0.83      0.82        35\n",
      "\n",
      "     accuracy                           0.65       100\n",
      "    macro avg       0.47      0.47      0.47       100\n",
      " weighted avg       0.64      0.65      0.64       100\n",
      "\n",
      "\n",
      "Feature Importance:\n",
      "                       Feature  Importance\n",
      "0                          Age    0.146769\n",
      "2                       Height    0.140280\n",
      "14                         BMI    0.136137\n",
      "3                       Weight    0.119545\n",
      "11               Diet_Omnivore    0.109623\n",
      "9             Goal_Muscle Gain    0.071585\n",
      "12                  Diet_Vegan    0.067129\n",
      "10            Goal_Weight Loss    0.051533\n",
      "7         Activity_Very Active    0.032708\n",
      "1                       Gender    0.025158\n",
      "13             Diet_Vegetarian    0.023628\n",
      "5   Activity_Moderately Active    0.022585\n",
      "4      Activity_Lightly Active    0.019050\n",
      "6           Activity_Sedentary    0.017187\n",
      "8             Goal_Maintenance    0.017083\n"
     ]
    }
   ],
   "source": [
    "# Split data\n",
    "X_train, X_test, y_train, y_test = train_test_split(X, y, test_size=0.2, random_state=42, stratify=y)\n",
    "\n",
    "# Apply SMOTE\n",
    "smote = SMOTE(random_state=42, k_neighbors=1)\n",
    "X_train, y_train = smote.fit_resample(X_train, y_train)\n",
    "\n",
    "# Compute class weights\n",
    "class_counts = Counter(y_train)\n",
    "total_samples = sum(class_counts.values())\n",
    "class_weights = {cls: total_samples / (len(class_counts) * count) for cls, count in class_counts.items()}\n",
    "\n",
    "# Initialize and train Random Forest\n",
    "rf_model = RandomForestClassifier(random_state=42, n_estimators=100, class_weight=class_weights)\n",
    "rf_model.fit(X_train, y_train)\n",
    "\n",
    "# Predict and evaluate\n",
    "y_pred = rf_model.predict(X_test)\n",
    "print(\"\\nRandom Forest Results:\")\n",
    "print(\"Accuracy:\", accuracy_score(y_test, y_pred))\n",
    "print(\"Classification Report:\")\n",
    "print(classification_report(y_test, y_pred, target_names=le.classes_, zero_division=0))\n",
    "\n",
    "# Feature importance\n",
    "feature_importance = pd.DataFrame({'Feature': X.columns, 'Importance': rf_model.feature_importances_}).sort_values(by='Importance', ascending=False)\n",
    "print(\"\\nFeature Importance:\")\n",
    "print(feature_importance)"
   ]
  },
  {
   "cell_type": "code",
   "execution_count": null,
   "id": "8ed872d6-4c3a-4615-875b-bf8a239874ec",
   "metadata": {},
   "outputs": [],
   "source": [
    "# Save model\n",
    "joblib.dump(rf_model, \"random_forest_breakfast_model.pkl\")\n",
    "print(\"\\nRandom Forest model saved as 'random_forest_breakfast_model.pkl'\")"
   ]
  }
 ],
 "metadata": {
  "kernelspec": {
   "display_name": "Python 3 (ipykernel)",
   "language": "python",
   "name": "python3"
  },
  "language_info": {
   "codemirror_mode": {
    "name": "ipython",
    "version": 3
   },
   "file_extension": ".py",
   "mimetype": "text/x-python",
   "name": "python",
   "nbconvert_exporter": "python",
   "pygments_lexer": "ipython3",
   "version": "3.12.4"
  }
 },
 "nbformat": 4,
 "nbformat_minor": 5
}
