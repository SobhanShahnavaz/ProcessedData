{
 "cells": [
  {
   "cell_type": "code",
   "execution_count": null,
   "id": "55b667f1-571d-4cbd-9405-d79ccc8b928e",
   "metadata": {},
   "outputs": [],
   "source": [
    "import pandas as pd\n",
    "import numpy as np\n",
    "from sklearn.model_selection import train_test_split\n",
    "from sklearn.preprocessing import StandardScaler\n",
    "from imblearn.over_sampling import SMOTE\n",
    "from sklearn.ensemble import RandomForestClassifier\n",
    "from sklearn.metrics import accuracy_score, classification_report\n",
    "from collections import Counter\n",
    "import joblib\n",
    "from sklearn.preprocessing import LabelEncoder"
   ]
  },
  {
   "cell_type": "code",
   "execution_count": null,
   "id": "c6171903-918e-4ac8-8864-e5278c778f6e",
   "metadata": {},
   "outputs": [],
   "source": [
    "# Load dataset\n",
    "df = pd.read_csv(\"nutrition_dataset_cleaned.csv\")\n",
    "\n",
    "# Fix duplicate goal columns\n",
    "if 'Goal_Weight Maintenance' in df.columns and 'Goal_Maintenance' in df.columns:\n",
    "    df['Goal_Maintenance'] = df[['Goal_Maintenance', 'Goal_Weight Maintenance']].max(axis=1)\n",
    "    df = df.drop(columns=['Goal_Weight Maintenance'])\n",
    "\n",
    "# Create new feature: BMI\n",
    "df['BMI'] = df['Weight'] / (df['Height'] / 100) ** 2\n",
    "\n",
    "# Merge low-sample categories\n",
    "df['Breakfast Category'] = df['Breakfast Category'].replace(['yogurt-based', 'egg-based'], 'other')\n",
    "le = LabelEncoder()\n",
    "df['Breakfast Category Encoded'] = le.fit_transform(df['Breakfast Category'])\n",
    "\n",
    "# Define features and target\n",
    "X = df[['Age', 'Gender', 'Height', 'Weight', 'Activity_Lightly Active', 'Activity_Moderately Active',\n",
    "        'Activity_Sedentary', 'Activity_Very Active', 'Goal_Maintenance', 'Goal_Muscle Gain',\n",
    "        'Goal_Weight Loss', 'Diet_Omnivore', 'Diet_Vegan', 'Diet_Vegetarian', 'BMI']]\n",
    "y = df['Breakfast Category Encoded']\n",
    "\n",
    "# Scale numerical features\n",
    "scaler = StandardScaler()\n",
    "X[['Age', 'Height', 'Weight', 'BMI']] = scaler.fit_transform(X[['Age', 'Height', 'Weight', 'BMI']])"
   ]
  },
  {
   "cell_type": "code",
   "execution_count": null,
   "id": "227ed66c-f605-4573-a066-4ac1190345d0",
   "metadata": {},
   "outputs": [],
   "source": [
    "# Split data\n",
    "X_train, X_test, y_train, y_test = train_test_split(X, y, test_size=0.2, random_state=42, stratify=y)\n",
    "\n",
    "# Apply SMOTE\n",
    "smote = SMOTE(random_state=42, k_neighbors=1)\n",
    "X_train, y_train = smote.fit_resample(X_train, y_train)\n",
    "\n",
    "# Compute class weights\n",
    "class_counts = Counter(y_train)\n",
    "total_samples = sum(class_counts.values())\n",
    "class_weights = {cls: total_samples / (len(class_counts) * count) for cls, count in class_counts.items()}\n",
    "\n",
    "# Initialize and train Random Forest\n",
    "rf_model = RandomForestClassifier(random_state=42, n_estimators=100, class_weight=class_weights)\n",
    "rf_model.fit(X_train, y_train)\n",
    "\n",
    "# Predict and evaluate\n",
    "y_pred = rf_model.predict(X_test)\n",
    "print(\"\\nRandom Forest Results:\")\n",
    "print(\"Accuracy:\", accuracy_score(y_test, y_pred))\n",
    "print(\"Classification Report:\")\n",
    "print(classification_report(y_test, y_pred, target_names=le.classes_, zero_division=0))\n",
    "\n",
    "# Feature importance\n",
    "feature_importance = pd.DataFrame({'Feature': X.columns, 'Importance': rf_model.feature_importances_}).sort_values(by='Importance', ascending=False)\n",
    "print(\"\\nFeature Importance:\")\n",
    "print(feature_importance)"
   ]
  },
  {
   "cell_type": "code",
   "execution_count": null,
   "id": "8ed872d6-4c3a-4615-875b-bf8a239874ec",
   "metadata": {},
   "outputs": [],
   "source": [
    "# Save model\n",
    "joblib.dump(rf_model, \"random_forest_breakfast_model.pkl\")\n",
    "print(\"\\nRandom Forest model saved as 'random_forest_breakfast_model.pkl'\")"
   ]
  }
 ],
 "metadata": {
  "kernelspec": {
   "display_name": "Python 3 (ipykernel)",
   "language": "python",
   "name": "python3"
  },
  "language_info": {
   "codemirror_mode": {
    "name": "ipython",
    "version": 3
   },
   "file_extension": ".py",
   "mimetype": "text/x-python",
   "name": "python",
   "nbconvert_exporter": "python",
   "pygments_lexer": "ipython3",
   "version": "3.12.4"
  }
 },
 "nbformat": 4,
 "nbformat_minor": 5
}
