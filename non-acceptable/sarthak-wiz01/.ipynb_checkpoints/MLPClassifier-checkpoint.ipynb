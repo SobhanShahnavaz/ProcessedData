{
 "cells": [
  {
   "cell_type": "code",
   "execution_count": 15,
   "id": "00b4abb7-f9b4-4597-b4aa-ffa7c5651e79",
   "metadata": {},
   "outputs": [
    {
     "name": "stderr",
     "output_type": "stream",
     "text": [
      "C:\\Users\\Administrator\\AppData\\Local\\Temp\\ipykernel_7044\\70564670.py:33: SettingWithCopyWarning: \n",
      "A value is trying to be set on a copy of a slice from a DataFrame.\n",
      "Try using .loc[row_indexer,col_indexer] = value instead\n",
      "\n",
      "See the caveats in the documentation: https://pandas.pydata.org/pandas-docs/stable/user_guide/indexing.html#returning-a-view-versus-a-copy\n",
      "  X[['Age', 'Height', 'BMI','Daily Calorie Target']] = scaler.fit_transform(X[['Age', 'Height', 'BMI','Daily Calorie Target']])\n"
     ]
    },
    {
     "name": "stdout",
     "output_type": "stream",
     "text": [
      "\n",
      "MLP Results:\n",
      "Accuracy: 0.59\n",
      "Classification Report:\n",
      "               precision    recall  f1-score   support\n",
      "\n",
      "oatmeal-based       0.34      0.46      0.39        24\n",
      "        other       0.73      0.46      0.57        41\n",
      "   tofu-based       0.69      0.83      0.75        35\n",
      "\n",
      "     accuracy                           0.59       100\n",
      "    macro avg       0.59      0.58      0.57       100\n",
      " weighted avg       0.62      0.59      0.59       100\n",
      "\n"
     ]
    }
   ],
   "source": [
    "import pandas as pd\n",
    "import numpy as np\n",
    "from sklearn.model_selection import train_test_split\n",
    "from sklearn.preprocessing import StandardScaler, LabelEncoder\n",
    "from imblearn.combine import SMOTEENN\n",
    "from sklearn.neural_network import MLPClassifier\n",
    "from sklearn.metrics import accuracy_score, classification_report\n",
    "import joblib\n",
    "\n",
    "# Load dataset\n",
    "df = pd.read_csv(\"nutrition_dataset_cleaned.csv\")\n",
    "\n",
    "# Fix duplicate goal columns\n",
    "if 'Goal_Weight Maintenance' in df.columns and 'Goal_Maintenance' in df.columns:\n",
    "    df['Goal_Maintenance'] = df[['Goal_Maintenance', 'Goal_Weight Maintenance']].max(axis=1)\n",
    "    df = df.drop(columns=['Goal_Weight Maintenance'])\n",
    "\n",
    "# Create new feature: BMI\n",
    "df['BMI'] = df['Weight'] / (df['Height'] / 100) ** 2\n",
    "\n",
    "# Merge low-sample categories\n",
    "df['Breakfast Category'] = df['Breakfast Category'].replace(['yogurt-based', 'egg-based', 'pancake-based'], 'other')\n",
    "le = LabelEncoder()\n",
    "df['Breakfast Category Encoded'] = le.fit_transform(df['Breakfast Category'])\n",
    "\n",
    "# Define features and target\n",
    "X = df[['Age', 'Height', 'BMI', 'Diet_Omnivore', 'Diet_Vegan', 'Diet_Vegetarian', 'Goal_Muscle Gain', 'Goal_Weight Loss']]\n",
    "y = df['Breakfast Category Encoded']\n",
    "\n",
    "# Scale numerical features\n",
    "scaler = StandardScaler()\n",
    "X[['Age', 'Height', 'BMI']] = scaler.fit_transform(X[['Age', 'Height', 'BMI']])\n",
    "\n",
    "# Split data\n",
    "X_train, X_test, y_train, y_test = train_test_split(X, y, test_size=0.2, random_state=42, stratify=y)\n",
    "\n",
    "# Apply SMOTEENN\n",
    "smoteenn = SMOTEENN(random_state=42, sampling_strategy='auto')\n",
    "X_train, y_train = smoteenn.fit_resample(X_train, y_train)\n",
    "\n",
    "# Initialize MLP\n",
    "mlp_model = MLPClassifier(hidden_layer_sizes=(100, 50), activation='relu', solver='adam', max_iter=500, random_state=42)\n",
    "\n",
    "# Train model\n",
    "mlp_model.fit(X_train, y_train)\n",
    "\n",
    "# Predict and evaluate\n",
    "y_pred = mlp_model.predict(X_test)\n",
    "print(\"\\nMLP Results:\")\n",
    "print(\"Accuracy:\", accuracy_score(y_test, y_pred))\n",
    "print(\"Classification Report:\")\n",
    "print(classification_report(y_test, y_pred, target_names=le.classes_, zero_division=0))"
   ]
  },
  {
   "cell_type": "code",
   "execution_count": null,
   "id": "59b6a093-730f-4e55-bc80-b4c008df5751",
   "metadata": {},
   "outputs": [],
   "source": [
    "# Save model\n",
    "joblib.dump(mlp_model, \"mlp_breakfast_model.pkl\")\n",
    "print(\"\\nMLP model saved as 'mlp_breakfast_model.pkl'\")"
   ]
  }
 ],
 "metadata": {
  "kernelspec": {
   "display_name": "Python 3 (ipykernel)",
   "language": "python",
   "name": "python3"
  },
  "language_info": {
   "codemirror_mode": {
    "name": "ipython",
    "version": 3
   },
   "file_extension": ".py",
   "mimetype": "text/x-python",
   "name": "python",
   "nbconvert_exporter": "python",
   "pygments_lexer": "ipython3",
   "version": "3.12.4"
  }
 },
 "nbformat": 4,
 "nbformat_minor": 5
}
