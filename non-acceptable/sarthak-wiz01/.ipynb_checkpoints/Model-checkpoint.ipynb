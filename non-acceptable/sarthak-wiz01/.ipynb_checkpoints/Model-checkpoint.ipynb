{
 "cells": [
  {
   "cell_type": "code",
   "execution_count": 1,
   "id": "e61ae799-b67f-48a9-be43-9554c9066c74",
   "metadata": {},
   "outputs": [],
   "source": [
    "import pandas as pd\n",
    "import numpy as np\n",
    "from sklearn.model_selection import train_test_split\n",
    "from sklearn.tree import DecisionTreeClassifier\n",
    "from sklearn.ensemble import RandomForestClassifier\n",
    "from sklearn.linear_model import LogisticRegression\n",
    "from xgboost import XGBClassifier\n",
    "from sklearn.metrics import accuracy_score, classification_report\n",
    "from sklearn.preprocessing import LabelEncoder, StandardScaler\n",
    "from collections import Counter\n",
    "from imblearn.over_sampling import SMOTE"
   ]
  },
  {
   "cell_type": "code",
   "execution_count": 7,
   "id": "c57ff975-6230-4d44-bab9-7aafde086cb1",
   "metadata": {},
   "outputs": [
    {
     "name": "stdout",
     "output_type": "stream",
     "text": [
      "Index(['Age', 'Gender', 'Height', 'Weight', 'Daily Calorie Target', 'Protein',\n",
      "       'Carbohydrates', 'Fat', 'Breakfast Suggestion', 'Lunch Suggestion',\n",
      "       'Dinner Suggestion', 'Snack Suggestion', 'Breakfast Category',\n",
      "       'Activity_Lightly Active', 'Activity_Moderately Active',\n",
      "       'Activity_Sedentary', 'Activity_Very Active', 'Goal_Maintenance',\n",
      "       'Goal_Muscle Gain', 'Goal_Weight Loss', 'Goal_Weight Maintenance',\n",
      "       'Diet_Omnivore', 'Diet_Vegan', 'Diet_Vegetarian',\n",
      "       'Breakfast Category Encoded'],\n",
      "      dtype='object')\n"
     ]
    }
   ],
   "source": [
    "# Load the cleaned dataset\n",
    "df = pd.read_csv(\"nutrition_dataset_cleaned.csv\")\n",
    "print(df.columns)"
   ]
  },
  {
   "cell_type": "code",
   "execution_count": 9,
   "id": "c63bd683-43d7-4089-8920-6bf520c1e388",
   "metadata": {},
   "outputs": [
    {
     "name": "stdout",
     "output_type": "stream",
     "text": [
      "\n",
      "Results for Decision Tree:\n",
      "Accuracy: 0.48\n",
      "Classification Report:\n",
      "               precision    recall  f1-score   support\n",
      "\n",
      "oatmeal-based       0.31      0.29      0.30        17\n",
      "   tofu-based       0.25      0.12      0.17        24\n",
      " yogurt-based       0.00      0.00      0.00         3\n",
      "    egg-based       0.00      0.00      0.00         2\n",
      "pancake-based       0.84      0.89      0.86        35\n",
      "        other       0.33      0.47      0.39        19\n",
      "\n",
      "     accuracy                           0.48       100\n",
      "    macro avg       0.29      0.30      0.29       100\n",
      " weighted avg       0.47      0.48      0.47       100\n",
      "\n",
      "\n",
      "Results for Random Forest:\n",
      "Accuracy: 0.52\n",
      "Classification Report:\n",
      "               precision    recall  f1-score   support\n",
      "\n",
      "oatmeal-based       0.33      0.29      0.31        17\n",
      "   tofu-based       0.46      0.25      0.32        24\n",
      " yogurt-based       0.00      0.00      0.00         3\n",
      "    egg-based       0.00      0.00      0.00         2\n",
      "pancake-based       0.80      0.94      0.87        35\n",
      "        other       0.33      0.42      0.37        19\n",
      "\n",
      "     accuracy                           0.52       100\n",
      "    macro avg       0.32      0.32      0.31       100\n",
      " weighted avg       0.51      0.52      0.51       100\n",
      "\n"
     ]
    },
    {
     "name": "stderr",
     "output_type": "stream",
     "text": [
      "C:\\ProgramData\\anaconda3\\Lib\\site-packages\\sklearn\\linear_model\\_logistic.py:469: ConvergenceWarning: lbfgs failed to converge (status=1):\n",
      "STOP: TOTAL NO. of ITERATIONS REACHED LIMIT.\n",
      "\n",
      "Increase the number of iterations (max_iter) or scale the data as shown in:\n",
      "    https://scikit-learn.org/stable/modules/preprocessing.html\n",
      "Please also refer to the documentation for alternative solver options:\n",
      "    https://scikit-learn.org/stable/modules/linear_model.html#logistic-regression\n",
      "  n_iter_i = _check_optimize_result(\n"
     ]
    },
    {
     "name": "stdout",
     "output_type": "stream",
     "text": [
      "\n",
      "Results for Logistic Regression:\n",
      "Accuracy: 0.4\n",
      "Classification Report:\n",
      "               precision    recall  f1-score   support\n",
      "\n",
      "oatmeal-based       0.54      0.41      0.47        17\n",
      "   tofu-based       0.25      0.12      0.17        24\n",
      " yogurt-based       0.00      0.00      0.00         3\n",
      "    egg-based       0.09      0.50      0.15         2\n",
      "pancake-based       0.74      0.66      0.70        35\n",
      "        other       0.26      0.32      0.29        19\n",
      "\n",
      "     accuracy                           0.40       100\n",
      "    macro avg       0.31      0.33      0.29       100\n",
      " weighted avg       0.46      0.40      0.42       100\n",
      "\n"
     ]
    },
    {
     "name": "stderr",
     "output_type": "stream",
     "text": [
      "C:\\ProgramData\\anaconda3\\Lib\\site-packages\\xgboost\\core.py:158: UserWarning: [18:38:12] WARNING: C:\\buildkite-agent\\builds\\buildkite-windows-cpu-autoscaling-group-i-0c55ff5f71b100e98-1\\xgboost\\xgboost-ci-windows\\src\\learner.cc:740: \n",
      "Parameters: { \"scale_pos_weight\" } are not used.\n",
      "\n",
      "  warnings.warn(smsg, UserWarning)\n"
     ]
    },
    {
     "name": "stdout",
     "output_type": "stream",
     "text": [
      "\n",
      "Results for XGBoost:\n",
      "Accuracy: 0.51\n",
      "Classification Report:\n",
      "               precision    recall  f1-score   support\n",
      "\n",
      "oatmeal-based       0.35      0.41      0.38        17\n",
      "   tofu-based       0.27      0.17      0.21        24\n",
      " yogurt-based       0.00      0.00      0.00         3\n",
      "    egg-based       0.00      0.00      0.00         2\n",
      "pancake-based       0.80      0.94      0.87        35\n",
      "        other       0.32      0.37      0.34        19\n",
      "\n",
      "     accuracy                           0.51       100\n",
      "    macro avg       0.29      0.31      0.30       100\n",
      " weighted avg       0.47      0.51      0.48       100\n",
      "\n"
     ]
    }
   ],
   "source": [
    "\n",
    "\n",
    "# Define features (X) and target (y)\n",
    "X = df[['Age', 'Gender', 'Height', 'Weight','Activity_Lightly Active', 'Activity_Moderately Active',\n",
    "       'Activity_Sedentary', 'Activity_Very Active', 'Goal_Maintenance','Goal_Muscle Gain',\n",
    "       'Goal_Weight Loss', 'Goal_Weight Maintenance','Diet_Omnivore', 'Diet_Vegan', 'Diet_Vegetarian']]\n",
    "y = df[\"Breakfast Category Encoded\"]\n",
    "\n",
    "scaler = StandardScaler()\n",
    "X[['Age', 'Height', 'Weight']] = scaler.fit_transform(X[['Age', 'Height', 'Weight']])\n",
    "\n",
    "# Split the data into training and testing sets\n",
    "X_train, X_test, y_train, y_test = train_test_split(X, y, test_size=0.2, random_state=42, stratify=y)\n",
    "\n",
    "smote = SMOTE(random_state=42, k_neighbors=1)  # k_neighbors=1 برای دسته‌های خیلی کم‌تعداد\n",
    "X_train, y_train = smote.fit_resample(X_train, y_train)\n",
    "\n",
    "# Compute class weights for imbalanced classes\n",
    "class_counts = Counter(y)\n",
    "total_samples = sum(class_counts.values())\n",
    "class_weights = {cls: total_samples / (len(class_counts) * count) for cls, count in class_counts.items()}\n",
    "\n",
    "# Initialize models\n",
    "models = {\n",
    "    \"Decision Tree\": DecisionTreeClassifier(random_state=42, class_weight=class_weights),\n",
    "    \"Random Forest\": RandomForestClassifier(random_state=42, n_estimators=100, class_weight=class_weights),\n",
    "    \"Logistic Regression\": LogisticRegression(random_state=42, max_iter=1000, class_weight=class_weights),\n",
    "    \"XGBoost\": XGBClassifier(random_state=42, n_estimators=100, learning_rate=0.1, max_depth=6, scale_pos_weight=class_weights)\n",
    "}\n",
    "\n",
    "# Train and evaluate each model\n",
    "for name, model in models.items():\n",
    "    # Train the model\n",
    "    model.fit(X_train, y_train)\n",
    "    \n",
    "    # Predict on test set\n",
    "    y_pred = model.predict(X_test)\n",
    "    \n",
    "    # Print results\n",
    "    print(f\"\\nResults for {name}:\")\n",
    "    print(\"Accuracy:\", accuracy_score(y_test, y_pred))\n",
    "    print(\"Classification Report:\")\n",
    "    print(classification_report(y_test, y_pred, target_names=df[\"Breakfast Category\"].unique(), zero_division=0))\n",
    "\n"
   ]
  },
  {
   "cell_type": "code",
   "execution_count": null,
   "id": "9523aeac-b795-4448-95b0-eb3caa9baf92",
   "metadata": {},
   "outputs": [],
   "source": [
    "# Save the best model (XGBoost) for later use\n",
    "best_model = models[\"XGBoost\"]\n",
    "best_model.fit(X_train, y_train)  # Re-train on full training data\n",
    "import joblib\n",
    "joblib.dump(best_model, \"best_breakfast_model.pkl\")\n",
    "print(\"\\nBest model (XGBoost) saved as 'best_breakfast_model.pkl'\")"
   ]
  }
 ],
 "metadata": {
  "kernelspec": {
   "display_name": "Python 3 (ipykernel)",
   "language": "python",
   "name": "python3"
  },
  "language_info": {
   "codemirror_mode": {
    "name": "ipython",
    "version": 3
   },
   "file_extension": ".py",
   "mimetype": "text/x-python",
   "name": "python",
   "nbconvert_exporter": "python",
   "pygments_lexer": "ipython3",
   "version": "3.12.4"
  }
 },
 "nbformat": 4,
 "nbformat_minor": 5
}
