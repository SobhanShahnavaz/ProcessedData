{
 "cells": [
  {
   "cell_type": "code",
   "execution_count": 1,
   "id": "b29900f5-1dd4-40c9-94f3-e33a96142d87",
   "metadata": {},
   "outputs": [],
   "source": [
    "import pandas as pd\n",
    "import numpy as np\n",
    "from sklearn.model_selection import train_test_split\n",
    "from sklearn.preprocessing import StandardScaler,LabelEncoder\n",
    "from imblearn.over_sampling import SMOTE\n",
    "from xgboost import XGBClassifier\n",
    "from sklearn.metrics import accuracy_score, classification_report\n",
    "from collections import Counter\n",
    "import joblib"
   ]
  },
  {
   "cell_type": "code",
   "execution_count": 2,
   "id": "7f4a6121-240c-4d41-9307-5138cd3b4de4",
   "metadata": {},
   "outputs": [
    {
     "ename": "NameError",
     "evalue": "name 'LabelEncoder' is not defined",
     "output_type": "error",
     "traceback": [
      "\u001b[1;31m---------------------------------------------------------------------------\u001b[0m",
      "\u001b[1;31mNameError\u001b[0m                                 Traceback (most recent call last)",
      "Cell \u001b[1;32mIn[2], line 14\u001b[0m\n\u001b[0;32m     12\u001b[0m \u001b[38;5;66;03m# Merge low-sample categories\u001b[39;00m\n\u001b[0;32m     13\u001b[0m df[\u001b[38;5;124m'\u001b[39m\u001b[38;5;124mBreakfast Category\u001b[39m\u001b[38;5;124m'\u001b[39m] \u001b[38;5;241m=\u001b[39m df[\u001b[38;5;124m'\u001b[39m\u001b[38;5;124mBreakfast Category\u001b[39m\u001b[38;5;124m'\u001b[39m]\u001b[38;5;241m.\u001b[39mreplace([\u001b[38;5;124m'\u001b[39m\u001b[38;5;124myogurt-based\u001b[39m\u001b[38;5;124m'\u001b[39m, \u001b[38;5;124m'\u001b[39m\u001b[38;5;124megg-based\u001b[39m\u001b[38;5;124m'\u001b[39m], \u001b[38;5;124m'\u001b[39m\u001b[38;5;124mother\u001b[39m\u001b[38;5;124m'\u001b[39m)\n\u001b[1;32m---> 14\u001b[0m le \u001b[38;5;241m=\u001b[39m LabelEncoder()\n\u001b[0;32m     15\u001b[0m df[\u001b[38;5;124m'\u001b[39m\u001b[38;5;124mBreakfast Category Encoded\u001b[39m\u001b[38;5;124m'\u001b[39m] \u001b[38;5;241m=\u001b[39m le\u001b[38;5;241m.\u001b[39mfit_transform(df[\u001b[38;5;124m'\u001b[39m\u001b[38;5;124mBreakfast Category\u001b[39m\u001b[38;5;124m'\u001b[39m])\n\u001b[0;32m     17\u001b[0m \u001b[38;5;66;03m# Define features and target\u001b[39;00m\n",
      "\u001b[1;31mNameError\u001b[0m: name 'LabelEncoder' is not defined"
     ]
    }
   ],
   "source": [
    "# Load dataset\n",
    "df = pd.read_csv(\"nutrition_dataset_cleaned.csv\")\n",
    "\n",
    "# Fix duplicate goal columns\n",
    "if 'Goal_Weight Maintenance' in df.columns and 'Goal_Maintenance' in df.columns:\n",
    "    df['Goal_Maintenance'] = df[['Goal_Maintenance', 'Goal_Weight Maintenance']].max(axis=1)\n",
    "    df = df.drop(columns=['Goal_Weight Maintenance'])\n",
    "\n",
    "# Create new feature: BMI\n",
    "df['BMI'] = df['Weight'] / (df['Height'] / 100) ** 2\n",
    "\n",
    "# Merge low-sample categories\n",
    "df['Breakfast Category'] = df['Breakfast Category'].replace(['yogurt-based', 'egg-based'], 'other')\n",
    "le = LabelEncoder()\n",
    "df['Breakfast Category Encoded'] = le.fit_transform(df['Breakfast Category'])\n",
    "\n",
    "# Define features and target\n",
    "X = df[['Age', 'Gender', 'Height', 'Weight', 'Activity_Lightly Active', 'Activity_Moderately Active',\n",
    "        'Activity_Sedentary', 'Activity_Very Active', 'Goal_Maintenance', 'Goal_Muscle Gain',\n",
    "        'Goal_Weight Loss', 'Diet_Omnivore', 'Diet_Vegan', 'Diet_Vegetarian', 'BMI']]\n",
    "y = df['Breakfast Category Encoded']\n",
    "\n",
    "# Scale numerical features\n",
    "scaler = StandardScaler()\n",
    "X[['Age', 'Height', 'Weight', 'BMI']] = scaler.fit_transform(X[['Age', 'Height', 'Weight', 'BMI']])"
   ]
  },
  {
   "cell_type": "code",
   "execution_count": null,
   "id": "16de1322-e757-41ad-bd7e-2e1375690502",
   "metadata": {},
   "outputs": [],
   "source": [
    "# Split data\n",
    "X_train, X_test, y_train, y_test = train_test_split(X, y, test_size=0.2, random_state=42, stratify=y)\n",
    "\n",
    "# Apply SMOTE\n",
    "smote = SMOTE(random_state=42, k_neighbors=1)\n",
    "X_train, y_train = smote.fit_resample(X_train, y_train)\n",
    "\n",
    "# Compute class weights\n",
    "class_counts = Counter(y_train)\n",
    "total_samples = sum(class_counts.values())\n",
    "class_weights = {cls: total_samples / (len(class_counts) * count) for cls, count in class_counts.items()}\n",
    "\n",
    "# Initialize and train XGBoost\n",
    "xgb_model = XGBClassifier(random_state=42, n_estimators=100, learning_rate=0.1, max_depth=6)\n",
    "xgb_model.fit(X_train, y_train, sample_weight=[class_weights[y] for y in y_train])\n",
    "\n",
    "# Predict and evaluate\n",
    "y_pred = xgb_model.predict(X_test)\n",
    "print(\"\\nXGBoost Results:\")\n",
    "print(\"Accuracy:\", accuracy_score(y_test, y_pred))\n",
    "print(\"Classification Report:\")\n",
    "print(classification_report(y_test, y_pred, target_names=le.classes_, zero_division=0))\n",
    "\n",
    "# Feature importance\n",
    "feature_importance = pd.DataFrame({'Feature': X.columns, 'Importance': xgb_model.feature_importances_}).sort_values(by='Importance', ascending=False)\n",
    "print(\"\\nFeature Importance:\")\n",
    "print(feature_importance)"
   ]
  },
  {
   "cell_type": "code",
   "execution_count": null,
   "id": "bce3e8da-51f7-410e-bc96-fdfdc935d2a9",
   "metadata": {},
   "outputs": [],
   "source": [
    "# Save model\n",
    "joblib.dump(xgb_model, \"xgboost_breakfast_model.pkl\")\n",
    "print(\"\\nXGBoost model saved as 'xgboost_breakfast_model.pkl'\")"
   ]
  }
 ],
 "metadata": {
  "kernelspec": {
   "display_name": "Python 3 (ipykernel)",
   "language": "python",
   "name": "python3"
  },
  "language_info": {
   "codemirror_mode": {
    "name": "ipython",
    "version": 3
   },
   "file_extension": ".py",
   "mimetype": "text/x-python",
   "name": "python",
   "nbconvert_exporter": "python",
   "pygments_lexer": "ipython3",
   "version": "3.12.4"
  }
 },
 "nbformat": 4,
 "nbformat_minor": 5
}
