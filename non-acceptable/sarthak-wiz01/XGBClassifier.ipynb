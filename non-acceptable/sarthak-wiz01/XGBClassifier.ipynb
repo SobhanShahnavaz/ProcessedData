{
 "cells": [
  {
   "cell_type": "code",
   "execution_count": 1,
   "id": "b29900f5-1dd4-40c9-94f3-e33a96142d87",
   "metadata": {},
   "outputs": [],
   "source": [
    "import pandas as pd\n",
    "import numpy as np\n",
    "from sklearn.model_selection import train_test_split, GridSearchCV\n",
    "from sklearn.preprocessing import StandardScaler, LabelEncoder\n",
    "from imblearn.combine import SMOTEENN\n",
    "from xgboost import XGBClassifier\n",
    "from sklearn.metrics import accuracy_score, classification_report\n",
    "import joblib"
   ]
  },
  {
   "cell_type": "code",
   "execution_count": 2,
   "id": "c4aca8c1-3e32-4439-b94b-b3516c2a27bf",
   "metadata": {},
   "outputs": [],
   "source": [
    "# Load dataset\n",
    "df = pd.read_csv(\"nutrition_dataset_cleaned.csv\")\n",
    "\n",
    "# Fix duplicate goal columns\n",
    "if 'Goal_Weight Maintenance' in df.columns and 'Goal_Maintenance' in df.columns:\n",
    "    df['Goal_Maintenance'] = df[['Goal_Maintenance', 'Goal_Weight Maintenance']].max(axis=1)\n",
    "    df = df.drop(columns=['Goal_Weight Maintenance'])\n",
    "\n",
    "# Create new feature: BMI\n",
    "df['BMI'] = df['Weight'] / (df['Height'] / 100) ** 2\n",
    "\n",
    "# Merge low-sample categories\n",
    "df['Breakfast Category'] = df['Breakfast Category'].replace(['yogurt-based', 'egg-based', 'pancake-based'], 'other')\n",
    "le = LabelEncoder()\n",
    "df['Breakfast Category Encoded'] = le.fit_transform(df['Breakfast Category'])\n",
    "\n",
    "# Define features and target\n",
    "X = df[['Age', 'Height', 'BMI', 'Diet_Omnivore', 'Diet_Vegan', 'Diet_Vegetarian', 'Goal_Muscle Gain', 'Goal_Weight Loss']]\n",
    "y = df['Breakfast Category Encoded']"
   ]
  },
  {
   "cell_type": "code",
   "execution_count": 3,
   "id": "df6dbda5-81ea-44a3-920b-e426890d90e0",
   "metadata": {},
   "outputs": [
    {
     "name": "stderr",
     "output_type": "stream",
     "text": [
      "C:\\Users\\Administrator\\AppData\\Local\\Temp\\ipykernel_9660\\2863088.py:3: SettingWithCopyWarning: \n",
      "A value is trying to be set on a copy of a slice from a DataFrame.\n",
      "Try using .loc[row_indexer,col_indexer] = value instead\n",
      "\n",
      "See the caveats in the documentation: https://pandas.pydata.org/pandas-docs/stable/user_guide/indexing.html#returning-a-view-versus-a-copy\n",
      "  X[['Age', 'Height', 'BMI']] = scaler.fit_transform(X[['Age', 'Height', 'BMI']])\n"
     ]
    }
   ],
   "source": [
    "# Scale numerical features\n",
    "scaler = StandardScaler()\n",
    "X[['Age', 'Height', 'BMI']] = scaler.fit_transform(X[['Age', 'Height', 'BMI']])\n",
    "\n",
    "# Split data\n",
    "X_train, X_test, y_train, y_test = train_test_split(X, y, test_size=0.2, random_state=42, stratify=y)\n",
    "\n",
    "# Apply SMOTEENN\n",
    "smoteenn = SMOTEENN(random_state=42, sampling_strategy='auto')\n",
    "X_train, y_train = smoteenn.fit_resample(X_train, y_train)\n",
    "\n",
    "# Initialize XGBoost\n",
    "xgb_model = XGBClassifier(random_state=42)"
   ]
  },
  {
   "cell_type": "code",
   "execution_count": 7,
   "id": "8800409b-c8fe-4c54-948e-324957d1a185",
   "metadata": {},
   "outputs": [
    {
     "name": "stdout",
     "output_type": "stream",
     "text": [
      "\n",
      "Best XGBoost Parameters: {'learning_rate': 0.01, 'max_depth': 6, 'n_estimators': 100, 'subsample': 0.8}\n",
      "\n",
      "XGBoost Results:\n",
      "Accuracy: 0.6\n",
      "Classification Report:\n",
      "               precision    recall  f1-score   support\n",
      "\n",
      "oatmeal-based       0.32      0.33      0.33        24\n",
      "        other       0.69      0.54      0.60        41\n",
      "   tofu-based       0.70      0.86      0.77        35\n",
      "\n",
      "     accuracy                           0.60       100\n",
      "    macro avg       0.57      0.58      0.57       100\n",
      " weighted avg       0.60      0.60      0.59       100\n",
      "\n",
      "\n",
      "Feature Importance:\n",
      "            Feature  Importance\n",
      "3     Diet_Omnivore    0.484960\n",
      "7  Goal_Weight Loss    0.169956\n",
      "5   Diet_Vegetarian    0.121370\n",
      "4        Diet_Vegan    0.088022\n",
      "2               BMI    0.057072\n",
      "1            Height    0.046321\n",
      "6  Goal_Muscle Gain    0.023022\n",
      "0               Age    0.009277\n"
     ]
    }
   ],
   "source": [
    "# Hyperparameter tuning\n",
    "param_grid = {\n",
    "    'n_estimators': [100, 200],\n",
    "    'learning_rate': [0.01, 0.1],\n",
    "    'max_depth': [3, 6],\n",
    "    'subsample': [0.8, 1.0]\n",
    "}\n",
    "grid_search = GridSearchCV(xgb_model, param_grid, cv=5, scoring='f1_weighted', n_jobs=-1)\n",
    "grid_search.fit(X_train, y_train)\n",
    "\n",
    "# Best model\n",
    "best_xgb = grid_search.best_estimator_\n",
    "print(\"\\nBest XGBoost Parameters:\", grid_search.best_params_)\n",
    "\n",
    "# Predict and evaluate\n",
    "y_pred = best_xgb.predict(X_test)\n",
    "print(\"\\nXGBoost Results:\")\n",
    "print(\"Accuracy:\", accuracy_score(y_test, y_pred))\n",
    "print(\"Classification Report:\")\n",
    "print(classification_report(y_test, y_pred, target_names=le.classes_, zero_division=0))\n",
    "\n",
    "# Feature importance\n",
    "feature_importance = pd.DataFrame({'Feature': X.columns, 'Importance': best_xgb.feature_importances_}).sort_values(by='Importance', ascending=False)\n",
    "print(\"\\nFeature Importance:\")\n",
    "print(feature_importance)"
   ]
  },
  {
   "cell_type": "code",
   "execution_count": null,
   "id": "21b7acd7-da2c-45a5-9c78-1c82076f85a7",
   "metadata": {},
   "outputs": [],
   "source": [
    "# Save model\n",
    "joblib.dump(best_xgb, \"xgboost_optimized_breakfast_model.pkl\")\n",
    "print(\"\\nXGBoost model saved as 'xgboost_optimized_breakfast_model.pkl'\")"
   ]
  }
 ],
 "metadata": {
  "kernelspec": {
   "display_name": "Python 3 (ipykernel)",
   "language": "python",
   "name": "python3"
  },
  "language_info": {
   "codemirror_mode": {
    "name": "ipython",
    "version": 3
   },
   "file_extension": ".py",
   "mimetype": "text/x-python",
   "name": "python",
   "nbconvert_exporter": "python",
   "pygments_lexer": "ipython3",
   "version": "3.12.4"
  }
 },
 "nbformat": 4,
 "nbformat_minor": 5
}
