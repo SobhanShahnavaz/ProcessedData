{
 "cells": [
  {
   "cell_type": "code",
   "execution_count": 1,
   "id": "f31e6882-ef40-4fda-8913-a817b9a9f31d",
   "metadata": {},
   "outputs": [],
   "source": [
    "import pandas as pd\n",
    "import numpy as np\n",
    "from sklearn.model_selection import train_test_split\n",
    "from sklearn.metrics import accuracy_score, classification_report\n",
    "from xgboost import XGBClassifier"
   ]
  },
  {
   "cell_type": "code",
   "execution_count": 2,
   "id": "4eeb7564-8e0e-44ea-834d-69d00166d5d8",
   "metadata": {},
   "outputs": [],
   "source": [
    "df = pd.read_csv(\"GymAndDietRecommendationCleaned.csv\")\n",
    "\n",
    "X = df[['Sex', 'Hypertension',  'Level', 'Age', 'Height', 'Exercises_Label']]\n",
    "y = df['Diet_Label']\n",
    "\n",
    "X_train, X_test, y_train, y_test = train_test_split(X, y, test_size=0.2, random_state=42, stratify=y)"
   ]
  },
  {
   "cell_type": "code",
   "execution_count": 3,
   "id": "96af42b0-8a54-427a-b9b3-1a1096e43ee2",
   "metadata": {},
   "outputs": [
    {
     "name": "stderr",
     "output_type": "stream",
     "text": [
      "C:\\ProgramData\\anaconda3\\Lib\\site-packages\\xgboost\\core.py:158: UserWarning: [21:09:17] WARNING: C:\\buildkite-agent\\builds\\buildkite-windows-cpu-autoscaling-group-i-0c55ff5f71b100e98-1\\xgboost\\xgboost-ci-windows\\src\\learner.cc:740: \n",
      "Parameters: { \"use_label_encoder\" } are not used.\n",
      "\n",
      "  warnings.warn(smsg, UserWarning)\n"
     ]
    }
   ],
   "source": [
    "class_weights = dict(zip(np.unique(y_train), len(y_train) / (len(np.unique(y_train)) * np.bincount(y_train))))\n",
    "class_weights = {i: class_weights.get(i, 1.0) for i in range(len(np.unique(y)))}\n",
    "\n",
    "xgb = XGBClassifier(use_label_encoder=False, eval_metric='mlogloss', random_state=42)\n",
    "xgb.fit(X_train, y_train, sample_weight=[class_weights.get(y, 1.0) for y in y_train])\n",
    "xgb_pred = xgb.predict(X_test)"
   ]
  },
  {
   "cell_type": "code",
   "execution_count": 4,
   "id": "b594ad2e-5b8c-4dd9-a434-38f95ffaaa85",
   "metadata": {},
   "outputs": [
    {
     "name": "stdout",
     "output_type": "stream",
     "text": [
      "XGBoost Results for Diet_Label:\n",
      "Accuracy: 0.9406919275123559\n",
      "\n",
      "Classification Report:\n",
      "               precision    recall  f1-score   support\n",
      "\n",
      "           0       0.97      0.97      0.97       405\n",
      "           1       0.74      0.69      0.71        80\n",
      "           2       0.66      0.74      0.70        80\n",
      "           3       0.24      0.80      0.36         5\n",
      "           4       0.99      0.95      0.97       831\n",
      "           5       0.95      0.98      0.96       141\n",
      "           6       0.96      0.95      0.96       280\n",
      "           7       0.91      0.96      0.93       139\n",
      "           8       0.94      0.96      0.95       139\n",
      "           9       0.96      0.97      0.97       188\n",
      "          10       0.93      0.94      0.94       140\n",
      "\n",
      "    accuracy                           0.94      2428\n",
      "   macro avg       0.84      0.90      0.86      2428\n",
      "weighted avg       0.95      0.94      0.94      2428\n",
      "\n",
      "\n",
      "XGBoost Feature Importance:\n",
      "            Feature  Importance\n",
      "5  Exercises_Label    0.393123\n",
      "1     Hypertension    0.256086\n",
      "2            Level    0.221625\n",
      "0              Sex    0.059174\n",
      "3              Age    0.038219\n",
      "4           Height    0.031773\n",
      "\n",
      "Feature Correlation:\n",
      "                       Sex  Hypertension     Level       Age    Height  \\\n",
      "Sex              1.000000      0.066102 -0.007114  0.011540 -0.050633   \n",
      "Hypertension     0.066102      1.000000 -0.008148  0.022357 -0.039877   \n",
      "Level           -0.007114     -0.008148  1.000000 -0.006764  0.004397   \n",
      "Age              0.011540      0.022357 -0.006764  1.000000  0.018747   \n",
      "Height          -0.050633     -0.039877  0.004397  0.018747  1.000000   \n",
      "Exercises_Label  0.063990      0.159759  0.054123  0.022654 -0.039411   \n",
      "\n",
      "                 Exercises_Label  \n",
      "Sex                     0.063990  \n",
      "Hypertension            0.159759  \n",
      "Level                   0.054123  \n",
      "Age                     0.022654  \n",
      "Height                 -0.039411  \n",
      "Exercises_Label         1.000000  \n"
     ]
    }
   ],
   "source": [
    "print(\"XGBoost Results for Diet_Label:\")\n",
    "print(\"Accuracy:\", accuracy_score(y_test, xgb_pred))\n",
    "print(\"\\nClassification Report:\\n\", classification_report(y_test, xgb_pred, zero_division=0))\n",
    "\n",
    "xgb_importance = pd.DataFrame({'Feature': X.columns, 'Importance': xgb.feature_importances_}).sort_values(by='Importance', ascending=False)\n",
    "print(\"\\nXGBoost Feature Importance:\\n\", xgb_importance)\n",
    "print(\"\\nFeature Correlation:\\n\" , X.corr())"
   ]
  }
 ],
 "metadata": {
  "kernelspec": {
   "display_name": "Python 3 (ipykernel)",
   "language": "python",
   "name": "python3"
  },
  "language_info": {
   "codemirror_mode": {
    "name": "ipython",
    "version": 3
   },
   "file_extension": ".py",
   "mimetype": "text/x-python",
   "name": "python",
   "nbconvert_exporter": "python",
   "pygments_lexer": "ipython3",
   "version": "3.12.4"
  }
 },
 "nbformat": 4,
 "nbformat_minor": 5
}
