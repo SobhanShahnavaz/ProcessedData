{
 "cells": [
  {
   "cell_type": "code",
   "execution_count": 1,
   "id": "2431ec3c-94ce-445a-b75c-b85c904a4c00",
   "metadata": {},
   "outputs": [],
   "source": [
    "import pandas as pd\n",
    "import numpy as np\n",
    "from sklearn.model_selection import train_test_split, GridSearchCV\n",
    "from sklearn.ensemble import RandomForestClassifier\n",
    "from sklearn.metrics import accuracy_score, classification_report\n",
    "from imblearn.over_sampling import SMOTE"
   ]
  },
  {
   "cell_type": "code",
   "execution_count": 2,
   "id": "cb3962b1-ddff-41d8-8184-baa02e9dd790",
   "metadata": {},
   "outputs": [],
   "source": [
    "df = pd.read_csv(\"GymAndDietRecommendationCleaned.csv\")\n",
    "\n",
    "# Prepare features and target\n",
    "X = df[['Sex', 'Hypertension', 'Diabetes', 'Level', 'Fitness Goal', 'Fitness Type', 'Age', 'Height', 'Weight', 'BMI']]\n",
    "y = df['Diet_Label']\n",
    "\n",
    "# Split data\n",
    "X_train, X_test, y_train, y_test = train_test_split(X, y, test_size=0.2, random_state=42, stratify=y)\n",
    "\n",
    "# Apply SMOTE to handle class imbalance\n",
    "smote = SMOTE(random_state=42, k_neighbors=1)  # Reduced k_neighbors for class 3 (5 instances)\n",
    "X_train_res, y_train_res = smote.fit_resample(X_train, y_train)\n",
    "\n",
    "# Define Random Forest with GridSearchCV\n",
    "rf = RandomForestClassifier(random_state=42)\n",
    "param_grid = {\n",
    "    'n_estimators': [100, 200],\n",
    "    'max_depth': [10, 20, None],\n",
    "    'min_samples_split': [2, 5]\n",
    "}"
   ]
  },
  {
   "cell_type": "code",
   "execution_count": 3,
   "id": "9e8b7495-9d25-4ffc-a21c-852907c2ffd1",
   "metadata": {},
   "outputs": [
    {
     "name": "stdout",
     "output_type": "stream",
     "text": [
      "Random Forest Results for Diet_Label (SMOTE + Tuning):\n",
      "Best Parameters: {'max_depth': None, 'min_samples_split': 5, 'n_estimators': 200}\n",
      "Accuracy: 0.9205107084019769\n",
      "\n",
      "Classification Report:\n",
      "               precision    recall  f1-score   support\n",
      "\n",
      "           0       0.95      0.96      0.96       405\n",
      "           1       0.70      0.66      0.68        80\n",
      "           2       0.65      0.75      0.70        80\n",
      "           3       0.00      0.00      0.00         5\n",
      "           4       0.96      0.96      0.96       831\n",
      "           5       0.89      0.91      0.90       141\n",
      "           6       0.92      0.90      0.91       280\n",
      "           7       0.91      0.92      0.91       139\n",
      "           8       0.92      0.95      0.93       139\n",
      "           9       0.94      0.90      0.92       188\n",
      "          10       0.93      0.90      0.92       140\n",
      "\n",
      "    accuracy                           0.92      2428\n",
      "   macro avg       0.80      0.80      0.80      2428\n",
      "weighted avg       0.92      0.92      0.92      2428\n",
      "\n",
      "\n",
      "Random Forest Feature Importance:\n",
      "         Feature  Importance\n",
      "2      Diabetes    0.221597\n",
      "1  Hypertension    0.208937\n",
      "6           Age    0.114338\n",
      "9           BMI    0.113968\n",
      "3         Level    0.088721\n",
      "8        Weight    0.087050\n",
      "7        Height    0.058085\n",
      "0           Sex    0.053755\n",
      "4  Fitness Goal    0.028604\n",
      "5  Fitness Type    0.024945\n"
     ]
    }
   ],
   "source": [
    "grid_rf = GridSearchCV(rf, param_grid, cv=5, scoring='f1_macro', n_jobs=-1)\n",
    "grid_rf.fit(X_train_res, y_train_res)\n",
    "\n",
    "# Best model\n",
    "best_rf = grid_rf.best_estimator_\n",
    "rf_pred = best_rf.predict(X_test)\n",
    "\n",
    "# Evaluate\n",
    "print(\"Random Forest Results for Diet_Label (SMOTE + Tuning):\")\n",
    "print(\"Best Parameters:\", grid_rf.best_params_)\n",
    "print(\"Accuracy:\", accuracy_score(y_test, rf_pred))\n",
    "print(\"\\nClassification Report:\\n\", classification_report(y_test, rf_pred, zero_division=0))\n",
    "\n",
    "# Feature importance\n",
    "rf_importance = pd.DataFrame({'Feature': X.columns, 'Importance': best_rf.feature_importances_}).sort_values(by='Importance', ascending=False)\n",
    "print(\"\\nRandom Forest Feature Importance:\\n\", rf_importance)"
   ]
  }
 ],
 "metadata": {
  "kernelspec": {
   "display_name": "Python 3 (ipykernel)",
   "language": "python",
   "name": "python3"
  },
  "language_info": {
   "codemirror_mode": {
    "name": "ipython",
    "version": 3
   },
   "file_extension": ".py",
   "mimetype": "text/x-python",
   "name": "python",
   "nbconvert_exporter": "python",
   "pygments_lexer": "ipython3",
   "version": "3.12.4"
  }
 },
 "nbformat": 4,
 "nbformat_minor": 5
}
