{
 "cells": [
  {
   "cell_type": "code",
   "execution_count": 1,
   "id": "64242b50-6d4c-4fd8-9b55-6ef6ab6932f1",
   "metadata": {},
   "outputs": [],
   "source": [
    "import pandas as pd\n",
    "import numpy as np\n",
    "from sklearn.model_selection import train_test_split\n",
    "from xgboost import XGBClassifier\n",
    "from sklearn.metrics import accuracy_score, classification_report\n",
    "from sklearn.preprocessing import LabelEncoder"
   ]
  },
  {
   "cell_type": "code",
   "execution_count": 2,
   "id": "26660936-9832-4f58-ba1e-e60caeb52bf7",
   "metadata": {},
   "outputs": [],
   "source": [
    "df = pd.read_csv(\"GymAndDietRecommendationCleaned.csv\")\n",
    "\n",
    "X = df[['Sex', 'Hypertension', 'Diabetes', 'Level', 'Age', 'Height', 'Weight']]\n",
    "y = df['Exercises_Label']\n",
    "\n",
    "X_train, X_test, y_train, y_test = train_test_split(X, y, test_size=0.2, random_state=42, stratify=y)\n",
    "\n",
    "# Handle class imbalance with class weights\n",
    "class_weights = dict(zip(np.unique(y_train), len(y_train) / (len(np.unique(y_train)) * np.bincount(y_train))))\n",
    "class_weights = {i: class_weights.get(i, 1.0) for i in range(len(np.unique(y)))}"
   ]
  },
  {
   "cell_type": "code",
   "execution_count": 3,
   "id": "c812e459-2f79-40cd-9515-760e048b93e9",
   "metadata": {},
   "outputs": [
    {
     "name": "stderr",
     "output_type": "stream",
     "text": [
      "C:\\ProgramData\\anaconda3\\Lib\\site-packages\\xgboost\\core.py:158: UserWarning: [11:09:02] WARNING: C:\\buildkite-agent\\builds\\buildkite-windows-cpu-autoscaling-group-i-0c55ff5f71b100e98-1\\xgboost\\xgboost-ci-windows\\src\\learner.cc:740: \n",
      "Parameters: { \"use_label_encoder\" } are not used.\n",
      "\n",
      "  warnings.warn(smsg, UserWarning)\n"
     ]
    },
    {
     "name": "stdout",
     "output_type": "stream",
     "text": [
      "XGBoost Results:\n",
      "Accuracy: 0.9979406919275123\n",
      "\n",
      "Classification Report:\n",
      "               precision    recall  f1-score   support\n",
      "\n",
      "           0       1.00      1.00      1.00       685\n",
      "           1       1.00      1.00      1.00       627\n",
      "           2       1.00      0.99      1.00       560\n",
      "           3       0.99      1.00      1.00       278\n",
      "           4       0.99      1.00      1.00       278\n",
      "\n",
      "    accuracy                           1.00      2428\n",
      "   macro avg       1.00      1.00      1.00      2428\n",
      "weighted avg       1.00      1.00      1.00      2428\n",
      "\n",
      "\n",
      "XGBoost Feature Importance:\n",
      "         Feature  Importance\n",
      "2      Diabetes    0.449656\n",
      "1  Hypertension    0.290078\n",
      "3         Level    0.256876\n",
      "6        Weight    0.001310\n",
      "4           Age    0.001020\n",
      "5        Height    0.000886\n",
      "0           Sex    0.000173\n",
      "\n",
      "Feature Correlation:\n",
      "                    Sex  Hypertension  Diabetes     Level       Age    Height  \\\n",
      "Sex           1.000000      0.066102  0.065967 -0.007114  0.011540 -0.050633   \n",
      "Hypertension  0.066102      1.000000  0.074669 -0.008148  0.022357 -0.039877   \n",
      "Diabetes      0.065967      0.074669  1.000000 -0.008224  0.022464 -0.039626   \n",
      "Level        -0.007114     -0.008148 -0.008224  1.000000 -0.006764  0.004397   \n",
      "Age           0.011540      0.022357  0.022464 -0.006764  1.000000  0.018747   \n",
      "Height       -0.050633     -0.039877 -0.039626  0.004397  0.018747  1.000000   \n",
      "Weight       -0.039907     -0.031661 -0.031661  0.903806 -0.005672  0.300774   \n",
      "\n",
      "                Weight  \n",
      "Sex          -0.039907  \n",
      "Hypertension -0.031661  \n",
      "Diabetes     -0.031661  \n",
      "Level         0.903806  \n",
      "Age          -0.005672  \n",
      "Height        0.300774  \n",
      "Weight        1.000000  \n"
     ]
    }
   ],
   "source": [
    "xgb = XGBClassifier(use_label_encoder=False, eval_metric='mlogloss', random_state=42)\n",
    "xgb.fit(X_train, y_train, sample_weight=[class_weights.get(y, 1.0) for y in y_train])\n",
    "xgb_pred = xgb.predict(X_test)\n",
    "\n",
    "print(\"XGBoost Results:\")\n",
    "print(\"Accuracy:\", accuracy_score(y_test, xgb_pred))\n",
    "print(\"\\nClassification Report:\\n\", classification_report(y_test, xgb_pred, zero_division=0))\n",
    "\n",
    "xgb_importance = pd.DataFrame({'Feature': X.columns, 'Importance': xgb.feature_importances_}).sort_values(by='Importance', ascending=False)\n",
    "print(\"\\nXGBoost Feature Importance:\\n\", xgb_importance)\n",
    "print(\"\\nFeature Correlation:\\n\" , X.corr())\n"
   ]
  }
 ],
 "metadata": {
  "kernelspec": {
   "display_name": "Python 3 (ipykernel)",
   "language": "python",
   "name": "python3"
  },
  "language_info": {
   "codemirror_mode": {
    "name": "ipython",
    "version": 3
   },
   "file_extension": ".py",
   "mimetype": "text/x-python",
   "name": "python",
   "nbconvert_exporter": "python",
   "pygments_lexer": "ipython3",
   "version": "3.12.4"
  }
 },
 "nbformat": 4,
 "nbformat_minor": 5
}
