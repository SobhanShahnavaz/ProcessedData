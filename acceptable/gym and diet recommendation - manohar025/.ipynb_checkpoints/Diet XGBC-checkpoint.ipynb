{
 "cells": [
  {
   "cell_type": "code",
   "execution_count": 1,
   "id": "f31e6882-ef40-4fda-8913-a817b9a9f31d",
   "metadata": {},
   "outputs": [],
   "source": [
    "import pandas as pd\n",
    "import numpy as np\n",
    "from sklearn.model_selection import train_test_split\n",
    "from sklearn.metrics import accuracy_score, classification_report\n",
    "from xgboost import XGBClassifier"
   ]
  },
  {
   "cell_type": "code",
   "execution_count": 2,
   "id": "4eeb7564-8e0e-44ea-834d-69d00166d5d8",
   "metadata": {},
   "outputs": [],
   "source": [
    "df = pd.read_csv(\"GymAndDietRecommendationCleaned.csv\")\n",
    "\n",
    "df['UnhealthyScore'] = (df['Hypertension']*5) * ( df['Exercises_Label'] +1 ) + (df['Level'] * 2) \n",
    "\n",
    "X = df[['Sex', 'Hypertension','Diabetes', 'Level', 'Age', 'BMI','Height','Weight', 'Exercises_Label', 'UnhealthyScore']]\n",
    "y = df['Diet_Label']\n",
    "X_train, X_test, y_train, y_test = train_test_split(X, y, test_size=0.2, random_state=42, stratify=y)"
   ]
  },
  {
   "cell_type": "code",
   "execution_count": 3,
   "id": "96af42b0-8a54-427a-b9b3-1a1096e43ee2",
   "metadata": {},
   "outputs": [
    {
     "name": "stderr",
     "output_type": "stream",
     "text": [
      "C:\\ProgramData\\anaconda3\\Lib\\site-packages\\xgboost\\core.py:158: UserWarning: [11:50:27] WARNING: C:\\buildkite-agent\\builds\\buildkite-windows-cpu-autoscaling-group-i-0c55ff5f71b100e98-1\\xgboost\\xgboost-ci-windows\\src\\learner.cc:740: \n",
      "Parameters: { \"use_label_encoder\" } are not used.\n",
      "\n",
      "  warnings.warn(smsg, UserWarning)\n"
     ]
    }
   ],
   "source": [
    "class_weights = dict(zip(np.unique(y_train), len(y_train) / (len(np.unique(y_train)) * np.bincount(y_train))))\n",
    "class_weights = {i: class_weights.get(i, 1.0) for i in range(len(np.unique(y)))}\n",
    "\n",
    "xgb = XGBClassifier(use_label_encoder=False, eval_metric='mlogloss', random_state=42)\n",
    "xgb.fit(X_train, y_train, sample_weight=[class_weights.get(y, 1.0) for y in y_train])\n",
    "xgb_pred = xgb.predict(X_test)"
   ]
  },
  {
   "cell_type": "code",
   "execution_count": 4,
   "id": "b594ad2e-5b8c-4dd9-a434-38f95ffaaa85",
   "metadata": {},
   "outputs": [
    {
     "name": "stdout",
     "output_type": "stream",
     "text": [
      "XGBoost Results for Diet_Label:\n",
      "Accuracy: 0.943986820428336\n",
      "\n",
      "Classification Report:\n",
      "               precision    recall  f1-score   support\n",
      "\n",
      "           0       0.96      0.98      0.97       405\n",
      "           1       0.67      0.68      0.67        80\n",
      "           2       0.68      0.74      0.71        80\n",
      "           3       0.21      0.60      0.32         5\n",
      "           4       0.99      0.96      0.97       831\n",
      "           5       0.98      0.97      0.98       141\n",
      "           6       0.96      0.95      0.95       280\n",
      "           7       0.95      0.96      0.96       139\n",
      "           8       0.95      0.97      0.96       139\n",
      "           9       0.96      0.96      0.96       188\n",
      "          10       0.94      0.93      0.94       140\n",
      "\n",
      "    accuracy                           0.94      2428\n",
      "   macro avg       0.84      0.88      0.85      2428\n",
      "weighted avg       0.95      0.94      0.95      2428\n",
      "\n",
      "\n",
      "XGBoost Feature Importance:\n",
      "            Feature  Importance\n",
      "3            Level    0.346584\n",
      "8  Exercises_Label    0.213594\n",
      "9   UnhealthyScore    0.152726\n",
      "2         Diabetes    0.150290\n",
      "1     Hypertension    0.048690\n",
      "0              Sex    0.027330\n",
      "6           Height    0.020288\n",
      "4              Age    0.016686\n",
      "7           Weight    0.012499\n",
      "5              BMI    0.011313\n",
      "\n",
      "Feature Correlation:\n",
      "                       Sex  Hypertension  Diabetes     Level       Age  \\\n",
      "Sex              1.000000      0.066102  0.065967 -0.007114  0.011540   \n",
      "Hypertension     0.066102      1.000000  0.074669 -0.008148  0.022357   \n",
      "Diabetes         0.065967      0.074669  1.000000 -0.008224  0.022464   \n",
      "Level           -0.007114     -0.008148 -0.008224  1.000000 -0.006764   \n",
      "Age              0.011540      0.022357  0.022464 -0.006764  1.000000   \n",
      "BMI             -0.017126     -0.012915 -0.013009  0.933748 -0.017158   \n",
      "Height          -0.050633     -0.039877 -0.039626  0.004397  0.018747   \n",
      "Weight          -0.039907     -0.031661 -0.031661  0.903806 -0.005672   \n",
      "Exercises_Label  0.063990      0.159759  0.859920  0.054123  0.022654   \n",
      "UnhealthyScore   0.049179      0.769656  0.379510  0.298870  0.015085   \n",
      "\n",
      "                      BMI    Height    Weight  Exercises_Label  UnhealthyScore  \n",
      "Sex             -0.017126 -0.050633 -0.039907         0.063990        0.049179  \n",
      "Hypertension    -0.012915 -0.039877 -0.031661         0.159759        0.769656  \n",
      "Diabetes        -0.013009 -0.039626 -0.031661         0.859920        0.379510  \n",
      "Level            0.933748  0.004397  0.903806         0.054123        0.298870  \n",
      "Age             -0.017158  0.018747 -0.005672         0.022654        0.015085  \n",
      "BMI              1.000000 -0.124808  0.899919         0.047774        0.275581  \n",
      "Height          -0.124808  1.000000  0.300774        -0.039411       -0.029785  \n",
      "Weight           0.899919  0.300774  1.000000         0.026416        0.251771  \n",
      "Exercises_Label  0.047774 -0.039411  0.026416         1.000000        0.565871  \n",
      "UnhealthyScore   0.275581 -0.029785  0.251771         0.565871        1.000000  \n"
     ]
    }
   ],
   "source": [
    "print(\"XGBoost Results for Diet_Label:\")\n",
    "print(\"Accuracy:\", accuracy_score(y_test, xgb_pred))\n",
    "print(\"\\nClassification Report:\\n\", classification_report(y_test, xgb_pred, zero_division=0))\n",
    "\n",
    "xgb_importance = pd.DataFrame({'Feature': X.columns, 'Importance': xgb.feature_importances_}).sort_values(by='Importance', ascending=False)\n",
    "print(\"\\nXGBoost Feature Importance:\\n\", xgb_importance)\n",
    "print(\"\\nFeature Correlation:\\n\" , X.corr())"
   ]
  }
 ],
 "metadata": {
  "kernelspec": {
   "display_name": "Python 3 (ipykernel)",
   "language": "python",
   "name": "python3"
  },
  "language_info": {
   "codemirror_mode": {
    "name": "ipython",
    "version": 3
   },
   "file_extension": ".py",
   "mimetype": "text/x-python",
   "name": "python",
   "nbconvert_exporter": "python",
   "pygments_lexer": "ipython3",
   "version": "3.12.4"
  }
 },
 "nbformat": 4,
 "nbformat_minor": 5
}
