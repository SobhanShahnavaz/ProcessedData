{
 "cells": [
  {
   "cell_type": "code",
   "execution_count": 19,
   "id": "0406a34b-aeea-49cd-9115-181d4f5dd02b",
   "metadata": {},
   "outputs": [],
   "source": [
    "import pandas as pd\n",
    "import numpy as np\n",
    "from sklearn.model_selection import train_test_split\n",
    "from sklearn.ensemble import RandomForestClassifier\n",
    "from sklearn.metrics import accuracy_score, classification_report\n",
    "from sklearn.preprocessing import LabelEncoder"
   ]
  },
  {
   "cell_type": "code",
   "execution_count": 20,
   "id": "f180e88e-99c0-4c73-852d-b07f148ae766",
   "metadata": {},
   "outputs": [],
   "source": [
    "df = pd.read_csv(\"GymAndDietRecommendationCleaned.csv\")\n",
    "\n",
    "X = df[['Sex', 'Hypertension', 'Diabetes', 'Level', 'Fitness Goal', 'Fitness Type', 'Age', 'Height', 'Weight', 'BMI']]\n",
    "y = df['Exercises_Label']\n",
    "\n",
    "\n",
    "X_train, X_test, y_train, y_test = train_test_split(X, y, test_size=0.2, random_state=42, stratify=y)\n",
    "\n",
    "# Handle class imbalance with class weights\n",
    "class_weights = dict(zip(np.unique(y_train), len(y_train) / (len(np.unique(y_train)) * np.bincount(y_train))))\n",
    "class_weights = {i: class_weights.get(i, 1.0) for i in range(len(np.unique(y)))}\n",
    "\n"
   ]
  },
  {
   "cell_type": "code",
   "execution_count": 21,
   "id": "ca6dfe1e-454f-4f23-bcbf-33203906c556",
   "metadata": {},
   "outputs": [
    {
     "name": "stdout",
     "output_type": "stream",
     "text": [
      "Random Forest Results:\n",
      "Accuracy: 0.9962932454695222\n",
      "\n",
      "Classification Report:\n",
      "               precision    recall  f1-score   support\n",
      "\n",
      "           0       1.00      1.00      1.00       685\n",
      "           1       1.00      1.00      1.00       627\n",
      "           2       1.00      0.99      0.99       560\n",
      "           3       0.99      1.00      0.99       278\n",
      "           4       0.99      1.00      0.99       278\n",
      "\n",
      "    accuracy                           1.00      2428\n",
      "   macro avg       0.99      1.00      1.00      2428\n",
      "weighted avg       1.00      1.00      1.00      2428\n",
      "\n",
      "\n",
      "Random Forest Feature Importance:\n",
      "         Feature  Importance\n",
      "2      Diabetes    0.437886\n",
      "1  Hypertension    0.215023\n",
      "9           BMI    0.092101\n",
      "3         Level    0.090266\n",
      "5  Fitness Type    0.067188\n",
      "4  Fitness Goal    0.063627\n",
      "8        Weight    0.025175\n",
      "7        Height    0.004134\n",
      "6           Age    0.003399\n",
      "0           Sex    0.001201\n"
     ]
    }
   ],
   "source": [
    "rf = RandomForestClassifier(n_estimators=100, random_state=42, class_weight=class_weights)\n",
    "rf.fit(X_train, y_train)\n",
    "rf_pred = rf.predict(X_test)\n",
    "\n",
    "print(\"Random Forest Results:\")\n",
    "print(\"Accuracy:\", accuracy_score(y_test, rf_pred))\n",
    "print(\"\\nClassification Report:\\n\", classification_report(y_test, rf_pred, zero_division=0))\n",
    "\n",
    "rf_importance = pd.DataFrame({'Feature': X.columns, 'Importance': rf.feature_importances_}).sort_values(by='Importance', ascending=False)\n",
    "print(\"\\nRandom Forest Feature Importance:\\n\", rf_importance)"
   ]
  }
 ],
 "metadata": {
  "kernelspec": {
   "display_name": "Python 3 (ipykernel)",
   "language": "python",
   "name": "python3"
  },
  "language_info": {
   "codemirror_mode": {
    "name": "ipython",
    "version": 3
   },
   "file_extension": ".py",
   "mimetype": "text/x-python",
   "name": "python",
   "nbconvert_exporter": "python",
   "pygments_lexer": "ipython3",
   "version": "3.12.4"
  }
 },
 "nbformat": 4,
 "nbformat_minor": 5
}
