{
 "cells": [
  {
   "cell_type": "code",
   "execution_count": 1,
   "id": "d753d22e-09bf-47ab-9a77-4060a677ddb3",
   "metadata": {},
   "outputs": [
    {
     "name": "stdout",
     "output_type": "stream",
     "text": [
      "ID              0\n",
      "Sex             0\n",
      "Age             0\n",
      "Height          0\n",
      "Weight          0\n",
      "Hypertension    0\n",
      "Diabetes        0\n",
      "BMI             0\n",
      "Level           0\n",
      "Fitness Goal    0\n",
      "Fitness Type    0\n",
      "Exercises       0\n",
      "Diet            0\n",
      "dtype: int64\n"
     ]
    }
   ],
   "source": [
    "import pandas as pd\n",
    "\n",
    "df = pd.read_csv(\"gym and diet recommendation1.csv\")\n",
    "print(df.isnull().sum())  # Check for missing values"
   ]
  },
  {
   "cell_type": "code",
   "execution_count": 2,
   "id": "94046a2c-f310-4f82-8e83-93ab43846827",
   "metadata": {},
   "outputs": [
    {
     "name": "stdout",
     "output_type": "stream",
     "text": [
      "          ID   BMI  Calculated_BMI\n",
      "14450  14451  70.0       24.677021\n"
     ]
    }
   ],
   "source": [
    "df['Calculated_BMI'] = df['Weight'] / (df['Height'] ** 2)\n",
    "\n",
    "df['BMI_Discrepancy'] = abs(df['BMI'] - df['Calculated_BMI']) > 0.1\n",
    "print(df[df['BMI_Discrepancy']][['ID', 'BMI', 'Calculated_BMI']])\n",
    "\n",
    "df['BMI'] = df['Calculated_BMI']\n",
    "df = df.drop(columns=['Calculated_BMI', 'BMI_Discrepancy'])"
   ]
  },
  {
   "cell_type": "code",
   "execution_count": 3,
   "id": "ba1bc54d-bd0b-4107-9729-0ae81f3ca28a",
   "metadata": {},
   "outputs": [
    {
     "name": "stdout",
     "output_type": "stream",
     "text": [
      "          ID\n",
      "0          1\n",
      "1          2\n",
      "2          3\n",
      "3          4\n",
      "4          5\n",
      "...      ...\n",
      "14575  14576\n",
      "14576  14577\n",
      "14577  14578\n",
      "14578  14579\n",
      "14579  14580\n",
      "\n",
      "[4714 rows x 1 columns]\n"
     ]
    }
   ],
   "source": [
    "duplicates = df.duplicated(subset=df.columns.difference(['ID']), keep=False)\n",
    "print(df[duplicates][['ID']])\n",
    "\n",
    "df = df.drop_duplicates(subset=df.columns.difference(['ID']), keep='first')"
   ]
  },
  {
   "cell_type": "code",
   "execution_count": 4,
   "id": "e4df9602-5dd3-4930-b7dd-b351f929b074",
   "metadata": {},
   "outputs": [
    {
     "name": "stdout",
     "output_type": "stream",
     "text": [
      "Level\n",
      "Overweight     3362\n",
      "Normal         3040\n",
      "Underweight    2896\n",
      "Obuse          2840\n",
      "Name: count, dtype: int64\n",
      "Fitness Goal\n",
      "Weight loss    6202\n",
      "Weight gain    5936\n",
      "Name: count, dtype: int64\n",
      "Fitness Type\n",
      "Cardio fitness      6202\n",
      "Muscular fitness    5936\n",
      "Name: count, dtype: int64\n"
     ]
    }
   ],
   "source": [
    "df['Hypertension'] = df['Hypertension'].str.capitalize()\n",
    "df['Diabetes'] = df['Diabetes'].str.capitalize()\n",
    "df['Level'] = df['Level'].str.capitalize()\n",
    "df['Fitness Goal'] = df['Fitness Goal'].str.capitalize()\n",
    "df['Fitness Type'] = df['Fitness Type'].str.capitalize()\n",
    "\n",
    "print(df['Level'].value_counts())\n",
    "print(df['Fitness Goal'].value_counts())\n",
    "print(df['Fitness Type'].value_counts())"
   ]
  },
  {
   "cell_type": "code",
   "execution_count": 5,
   "id": "cc7ff135-db96-479a-8da4-e47ef9d3e052",
   "metadata": {},
   "outputs": [
    {
     "name": "stdout",
     "output_type": "stream",
     "text": [
      "Empty DataFrame\n",
      "Columns: [ID, Level, Fitness Goal]\n",
      "Index: []\n"
     ]
    }
   ],
   "source": [
    "inconsistent = df[\n",
    "    ((df['Level'].isin(['Underweight', 'Normal'])) & (df['Fitness Goal'] == 'Weight Loss')) |\n",
    "    ((df['Level'].isin(['Overweight', 'Obese'])) & (df['Fitness Goal'] == 'Weight Gain'))\n",
    "]\n",
    "print(inconsistent[['ID', 'Level', 'Fitness Goal']])"
   ]
  },
  {
   "cell_type": "code",
   "execution_count": 6,
   "id": "72eb2cec-a4a6-4ded-b4ca-8ad3193151e1",
   "metadata": {},
   "outputs": [
    {
     "name": "stdout",
     "output_type": "stream",
     "text": [
      "Outliers in Age:\n",
      " Empty DataFrame\n",
      "Columns: [ID, Age]\n",
      "Index: []\n",
      "Outliers in Height:\n",
      "           ID  Height\n",
      "2017    2018    1.40\n",
      "2018    2019    1.40\n",
      "2019    2020    1.40\n",
      "2020    2021    1.40\n",
      "2021    2022    1.40\n",
      "...      ...     ...\n",
      "13626  13627    1.99\n",
      "13627  13628    2.00\n",
      "13628  13629    2.01\n",
      "13629  13630    2.02\n",
      "13630  13631    2.03\n",
      "\n",
      "[69 rows x 2 columns]\n",
      "Outliers in Weight:\n",
      " Empty DataFrame\n",
      "Columns: [ID, Weight]\n",
      "Index: []\n",
      "Outliers in BMI:\n",
      "           ID        BMI\n",
      "2041    2042  50.000000\n",
      "2042    2043  50.000000\n",
      "2043    2044  50.000000\n",
      "2044    2045  50.000000\n",
      "2045    2046  50.000000\n",
      "...      ...        ...\n",
      "12824  12825  49.535132\n",
      "12825  12826  49.535132\n",
      "12826  12827  49.535132\n",
      "13788  13789  46.484375\n",
      "13789  13790  46.294510\n",
      "\n",
      "[106 rows x 2 columns]\n"
     ]
    }
   ],
   "source": [
    "# Detect outliers using IQR\n",
    "for col in ['Age', 'Height', 'Weight', 'BMI']:\n",
    "    Q1 = df[col].quantile(0.25)\n",
    "    Q3 = df[col].quantile(0.75)\n",
    "    IQR = Q3 - Q1\n",
    "    lower_bound = Q1 - 1.5 * IQR\n",
    "    upper_bound = Q3 + 1.5 * IQR\n",
    "    outliers = df[(df[col] < lower_bound) | (df[col] > upper_bound)]\n",
    "    print(f\"Outliers in {col}:\\n\", outliers[['ID', col]])"
   ]
  },
  {
   "cell_type": "code",
   "execution_count": 7,
   "id": "80bbc796-6cc7-498a-a1e0-80ae3872aac2",
   "metadata": {},
   "outputs": [
    {
     "name": "stdout",
     "output_type": "stream",
     "text": [
      "Sex  Hypertension  Diabetes\n",
      "0    0             0           2560\n",
      "                   1           1579\n",
      "     1             0           1578\n",
      "                   1           1578\n",
      "1    0             0           1211\n",
      "                   1           1211\n",
      "     1             0           1211\n",
      "                   1           1210\n",
      "Name: count, dtype: int64\n"
     ]
    }
   ],
   "source": [
    "df['Sex'] = df['Sex'].map({'Male': 0, 'Female': 1})\n",
    "df['Hypertension'] = df['Hypertension'].map({'No': 0, 'Yes': 1})\n",
    "df['Diabetes'] = df['Diabetes'].map({'No': 0, 'Yes': 1})\n",
    "\n",
    "print(df[['Sex', 'Hypertension', 'Diabetes']].value_counts())"
   ]
  },
  {
   "cell_type": "code",
   "execution_count": 8,
   "id": "e14d8746-f19e-4d90-b193-a2ef425a9685",
   "metadata": {},
   "outputs": [
    {
     "name": "stdout",
     "output_type": "stream",
     "text": [
      "Level\n",
      "2    3362\n",
      "1    3040\n",
      "0    2896\n",
      "3    2840\n",
      "Name: count, dtype: int64\n"
     ]
    }
   ],
   "source": [
    "df['Level'] = df['Level'].map({'Underweight': 0, 'Normal': 1, 'Overweight': 2, 'Obuse': 3})\n",
    "print(df['Level'].value_counts())"
   ]
  },
  {
   "cell_type": "code",
   "execution_count": 9,
   "id": "be1966a2-f72c-4959-adff-167f8eb9f0fd",
   "metadata": {},
   "outputs": [
    {
     "name": "stdout",
     "output_type": "stream",
     "text": [
      "Fitness Goal\n",
      "1    6202\n",
      "0    5936\n",
      "Name: count, dtype: int64\n",
      "Fitness Type\n",
      "1    6202\n",
      "0    5936\n",
      "Name: count, dtype: int64\n"
     ]
    }
   ],
   "source": [
    "df['Fitness Goal'] = df['Fitness Goal'].map({'Weight gain': 0, 'Weight loss': 1})\n",
    "df['Fitness Type'] = df['Fitness Type'].map({'Muscular fitness': 0, 'Cardio fitness': 1})\n",
    "print(df['Fitness Goal'].value_counts())\n",
    "print(df['Fitness Type'].value_counts())"
   ]
  },
  {
   "cell_type": "code",
   "execution_count": 10,
   "id": "cd6fd607-2419-40d7-8fe4-cf1840bba20a",
   "metadata": {},
   "outputs": [
    {
     "name": "stdout",
     "output_type": "stream",
     "text": [
      "Encoded Exercises value counts:\n",
      " Exercises_Label\n",
      "0    3423\n",
      "1    3137\n",
      "2    2799\n",
      "3    1390\n",
      "4    1389\n",
      "Name: count, dtype: int64\n",
      "\n",
      "Mapping preview:\n",
      "    Exercise_Label                                    Exercise_String  \\\n",
      "0               0  Brisk walking, cycling, swimming, running , or...   \n",
      "1               1  Squats, deadlifts, bench presses, and overhead...   \n",
      "2               2  Squats, yoga, deadlifts, bench presses, and ov...   \n",
      "3               3                           Walking, Yoga, Swimming.   \n",
      "4               4      brisk walking, cycling, swimming, or dancing.   \n",
      "\n",
      "                        Exercise_String_Persian  \n",
      "0  پیاده‌روی سریع،دوچرخه‌سواری،شنا،دویدن یا رقص  \n",
      "1            اسکات،ددلیفت،پرس سینه،پرس بالای سر  \n",
      "2       اسکات،یوگا،ددلیفت،پرس سینه،پرس بالای سر  \n",
      "3                            پیاده‌روی،یوگا،شنا  \n",
      "4        پیاده‌روی سریع،دوچرخه‌سواری،شنا یا رقص  \n"
     ]
    }
   ],
   "source": [
    "from sklearn.preprocessing import LabelEncoder\n",
    "import uuid\n",
    "\n",
    "le_exercises = LabelEncoder()\n",
    "df['Exercises_Label'] = le_exercises.fit_transform(df['Exercises'])\n",
    "\n",
    "translation_dict = {\n",
    "    'Squats, deadlifts, bench presses, and overhead presses': 'اسکات،ددلیفت،پرس سینه،پرس بالای سر',\n",
    "    'Squats, yoga, deadlifts, bench presses, and overhead presses': 'اسکات،یوگا،ددلیفت،پرس سینه،پرس بالای سر',\n",
    "    'Brisk walking, cycling, swimming, running , or dancing.': 'پیاده‌روی سریع،دوچرخه‌سواری،شنا،دویدن یا رقص',\n",
    "    'brisk walking, cycling, swimming, or dancing.': 'پیاده‌روی سریع،دوچرخه‌سواری،شنا یا رقص',\n",
    "    'Walking, Yoga, Swimming.': 'پیاده‌روی،یوگا،شنا'\n",
    "    \n",
    "}\n",
    "\n",
    "mapping_df = pd.DataFrame({\n",
    "    'Exercise_Label': le_exercises.transform(le_exercises.classes_),\n",
    "    'Exercise_String': le_exercises.classes_,\n",
    "    'Exercise_String_Persian': [translation_dict.get(ex, 'ترجمه نشده') for ex in le_exercises.classes_]\n",
    "})\n",
    "\n",
    "\n",
    "mapping_df.to_csv('exercises_mapping.csv', index=False)\n",
    "print(\"Encoded Exercises value counts:\\n\", df['Exercises_Label'].value_counts())\n",
    "print(\"\\nMapping preview:\\n\", mapping_df.head())"
   ]
  },
  {
   "cell_type": "code",
   "execution_count": 11,
   "id": "99cc4f33-1460-4bc6-a21d-494dbc161fe1",
   "metadata": {},
   "outputs": [
    {
     "name": "stdout",
     "output_type": "stream",
     "text": [
      "Pure Diet value counts:\n",
      " Diet\n",
      "Vegetables: (Garlic, Mushroom, Green Papper, Icebetg Lettuce); Protein Intake: (Baru Nuts, Beech Nuts, Hemp Seeds, Cheese Spandwich); Juice: (Apple Juice, Mango juice,and Beetroot juice)                                                                      4155\n",
      "Vegetables: (Broccoli, Carrots, Spinach, Lettuce, Onion); Protein Intake: (Cheese, Cattoge cheese, Skim Milk, Law fat Milk, and Baru Nuts); Juice: (Fruit Juice, Aloe vera juice, Cold-pressed juice, and Watermelon juice)                                     2025\n",
      "Vegetables: (Garlic, Roma Tomatoes, Capers, Green Papper, and Iceberg Lettuce); Protein Intake: (Cheese Sandwich, Baru Nuts, Beech Nuts, Squash Seeds, Mixed Teff, peanut butter, and jelly sandwich); Juice: (Apple juice, beetroot juice, and mango juice)    1397\n",
      "Vegetables: (Mixed greens, cherry tomatoes, cucumbers, bell peppers, carrots, celery, bell peppers);Protein Intake: (Chicken, fish, tofu, or legumes); Juice : (Green juice,kale, spinach, cucumber, celery, and apple)                                          939\n",
      "Vegetables: (Garlic, Roma Tomatoes, Capers and Iceberg Lettuce); Protein Intake: (Cheese Standwish, Baru Nuts, Beech Nuts, Squash Seeds, and Mixed Teff); Juice: (Apple juice, beetroot juice and mango juice)                                                   703\n",
      "Vegetables: (Tomatoes, Garlic, leafy greens, broccoli, carrots, and bell peppers); Protein Intake: (poultry, fish, tofu, legumes, and low-fat dairy products); Juice: (Apple juice, beetroot juice and mango juice)                                              702\n",
      "Vegetables: (Garlic, mushroon, green papper and water chestnut);Protein Intake: ( Baru Nuts, Beech Nuts, and black walnut); Juice : (Apple juice, Mango, and Beetroot Juice)                                                                                     696\n",
      "Vegetables: (Garlic, mushroon, green papper);Protein Intake: ( Baru Nuts, Beech Nuts, and Hemp Seeds); Juice : (Apple juice, Mango, and Beetroot Juice)                                                                                                          696\n",
      "Vegetables: (Carrots, Sweet Potato, and Lettuce); Protein Intake: (Red meats, poultry, fish, eggs, dairy products, legumes, and nuts); Juice: (Fruit juice, watermelon juice, carrot juice, apple juice and mango juice)                                         399\n",
      "Vegetables: (Carrots, Sweet Potato, Lettuce); Protein Intake: (Red meats, poultry, fish, eggs, dairy products, legumes, and nuts); Juice: (Fruit juice, watermelon juice, carrot juice, apple juice and mango juice)                                             399\n",
      "Diet                                                                                                                                                                                                                                                              27\n",
      "Name: count, dtype: int64\n"
     ]
    }
   ],
   "source": [
    "print(\"Pure Diet value counts:\\n\", df['Diet'].value_counts())"
   ]
  },
  {
   "cell_type": "code",
   "execution_count": 12,
   "id": "a92ef753-1fec-48d0-b0fa-27358e0da487",
   "metadata": {},
   "outputs": [
    {
     "name": "stdout",
     "output_type": "stream",
     "text": [
      "Number of unique diets: 11\n",
      "\n",
      "Encoded Diet value counts:\n",
      " Diet_Label\n",
      "4     4155\n",
      "0     2025\n",
      "6     1397\n",
      "9      939\n",
      "5      703\n",
      "10     702\n",
      "7      696\n",
      "8      696\n",
      "2      399\n",
      "1      399\n",
      "3       27\n",
      "Name: count, dtype: int64\n",
      "\n",
      "Mapping preview:\n",
      "     Diet_Label                                Diet_String_English  \\\n",
      "0            0  Vegetables: (Broccoli, Carrots, Spinach, Lettu...   \n",
      "1            1  Vegetables: (Carrots, Sweet Potato, Lettuce); ...   \n",
      "2            2  Vegetables: (Carrots, Sweet Potato, and Lettuc...   \n",
      "3            3  Vegetables: (Garlic, Mushroom, Green Papper, I...   \n",
      "4            4  Vegetables: (Garlic, Mushroom, Green Papper, I...   \n",
      "5            5  Vegetables: (Garlic, Roma Tomatoes, Capers and...   \n",
      "6            6  Vegetables: (Garlic, Roma Tomatoes, Capers, Gr...   \n",
      "7            7  Vegetables: (Garlic, mushroon, green papper an...   \n",
      "8            8  Vegetables: (Garlic, mushroon, green papper);P...   \n",
      "9            9  Vegetables: (Mixed greens, cherry tomatoes, cu...   \n",
      "10          10  Vegetables: (Tomatoes, Garlic, leafy greens, b...   \n",
      "\n",
      "                                  Diet_String_Persian  \n",
      "0   سبزیجات: (بروکلی، هویج، اسفناج، کاهو، پیاز); پ...  \n",
      "1   سبزیجات: (هویج، سیب‌زمینی شیرین، کاهو); پروتئی...  \n",
      "2   سبزیجات: (هویج، سیب‌زمینی شیرین، کاهو); پروتئی...  \n",
      "3   سبزیجات: (سیر، قارچ، فلفل سبز، کاهوی آیسبرگ); ...  \n",
      "4   سبزیجات: (سیر، قارچ، فلفل سبز، کاهوی آیسبرگ); ...  \n",
      "5   سبزیجات: (سیر، گوجه‌فرنگی روما، کبر، کاهوی آیس...  \n",
      "6   سبزیجات: (سیر، گوجه‌فرنگی روما، کبر، فلفل سبز،...  \n",
      "7   سبزیجات: (سیر، قارچ، فلفل سبز، شاه‌بلوط آبی); ...  \n",
      "8   سبزیجات: (سیر، قارچ، فلفل سبز); پروتئین: (آجیل...  \n",
      "9   سبزیجات: (سبزیجات مخلوط، گوجه‌فرنگی گیلاسی، خی...  \n",
      "10  سبزیجات: (گوجه‌فرنگی، سیر، سبزیجات برگی، بروکل...  \n"
     ]
    }
   ],
   "source": [
    "def impute_diet(row):\n",
    "    if row['Diet'].strip().lower() == 'diet':\n",
    "        if row['Level'] in ['Underweight', 'Normal']:\n",
    "            return 'Vegetables: (Carrots, Sweet Potato, and Lettuce); Protein Intake: (Red meats, poultry, fish, eggs, dairy products, legumes, and nuts); Juice: (Fruit juice, watermelon juice, carrot juice, apple juice and mango juice)'\n",
    "        elif row['Level'] in ['Overweight', 'Obese']:\n",
    "            return 'Vegetables: (Mixed greens, cherry tomatoes, cucumbers, bell peppers, carrots, celery, bell peppers); Protein Intake: (Chicken, fish, tofu, or legumes); Juice: (Green juice, kale, spinach, cucumber, celery, and apple)'\n",
    "        else:\n",
    "            return 'Vegetables: (Garlic, Mushroom, Green Papper, Icebetg Lettuce); Protein Intake: (Baru Nuts, Beech Nuts, Hemp Seeds, Cheese Spandwich); Juice: (Apple Juice, Mango juice, and Beetroot juice)'\n",
    "    return row['Diet']\n",
    "\n",
    "df['Diet'] = df.apply(impute_diet, axis=1)\n",
    "\n",
    "le_diet = LabelEncoder()\n",
    "df['Diet_Label'] = le_diet.fit_transform(df['Diet'])\n",
    "\n",
    "translation_dict = {\n",
    "    'Vegetables: (Broccoli, Carrots, Spinach, Lettuce, Onion); Protein Intake: (Cheese, Cattoge cheese, Skim Milk, Law fat Milk, and Baru Nuts); Juice: (Fruit Juice, Aloe vera juice, Cold-pressed juice, and Watermelon juice)': \n",
    "        'سبزیجات: (بروکلی، هویج، اسفناج، کاهو، پیاز); پروتئین: (پنیر، پنیر کاتیج، شیر بدون چربی، شیر کم‌چرب، آجیل بارو); آبمیوه: (آبمیوه، آب آلوئه‌ورا، آبمیوه سردفشرده، آب هندوانه)',\n",
    "    'Vegetables: (Carrots, Sweet Potato, Lettuce); Protein Intake: (Red meats, poultry, fish, eggs, dairy products, legumes, and nuts); Juice: (Fruit juice, watermelon juice, carrot juice, apple juice and mango juice)': \n",
    "        'سبزیجات: (هویج، سیب‌زمینی شیرین، کاهو); پروتئین: (گوشت قرمز، ماکیان، ماهی، تخم‌مرغ، محصولات لبنی، حبوبات، آجیل); آبمیوه: (آبمیوه، آب هندوانه، آب هویج، آب سیب، آب انبه)',\n",
    "    'Vegetables: (Carrots, Sweet Potato, and Lettuce); Protein Intake: (Red meats, poultry, fish, eggs, dairy products, legumes, and nuts); Juice: (Fruit juice, watermelon juice, carrot juice, apple juice and mango juice)': \n",
    "        'سبزیجات: (هویج، سیب‌زمینی شیرین، کاهو); پروتئین: (گوشت قرمز، ماکیان، ماهی، تخم‌مرغ، محصولات لبنی، حبوبات، آجیل); آبمیوه: (آبمیوه، آب هندوانه، آب هویج، آب سیب، آب انبه)',\n",
    "    'Vegetables: (Garlic, Mushroom, Green Papper, Icebetg Lettuce); Protein Intake: (Baru Nuts, Beech Nuts, Hemp Seeds, Cheese Spandwich); Juice: (Apple Juice, Mango juice, and Beetroot juice)': \n",
    "        'سبزیجات: (سیر، قارچ، فلفل سبز، کاهوی آیسبرگ); پروتئین: (آجیل بارو، آجیل راش، دانه کنف، ساندویچ پنیر); آبمیوه: (آب سیب، آب انبه، آب چغندر)',\n",
    "    'Vegetables: (Garlic, Mushroom, Green Papper, Icebetg Lettuce); Protein Intake: (Baru Nuts, Beech Nuts, Hemp Seeds, Cheese Spandwich); Juice: (Apple Juice, Mango juice,and Beetroot juice)': \n",
    "        'سبزیجات: (سیر، قارچ، فلفل سبز، کاهوی آیسبرگ); پروتئین: (آجیل بارو، آجیل راش، دانه کنف، ساندویچ پنیر); آبمیوه: (آب سیب، آب انبه، آب چغندر)',\n",
    "    'Vegetables: (Garlic, Roma Tomatoes, Capers and Iceberg Lettuce); Protein Intake: (Cheese Standwish, Baru Nuts, Beech Nuts, Squash Seeds, and Mixed Teff); Juice: (Apple juice, beetroot juice and mango juice)': \n",
    "        'سبزیجات: (سیر، گوجه‌فرنگی روما، کبر، کاهوی آیسبرگ); پروتئین: (ساندویچ پنیر، آجیل بارو، آجیل راش، دانه کدو، تف مخلوط); آبمیوه: (آب سیب، آب چغندر، آب انبه)',\n",
    "    'Vegetables: (Garlic, Roma Tomatoes, Capers, Green Papper, and Iceberg Lettuce); Protein Intake: (Cheese Sandwich, Baru Nuts, Beech Nuts, Squash Seeds, Mixed Teff, peanut butter, and jelly sandwich); Juice: (Apple juice, beetroot juice, and mango juice)': \n",
    "        'سبزیجات: (سیر، گوجه‌فرنگی روما، کبر، فلفل سبز، کاهوی آیسبرگ); پروتئین: (ساندویچ پنیر، آجیل بارو، آجیل راش، دانه کدو، تف مخلوط، کره بادام‌زمینی، ساندویچ ژله); آبمیوه: (آب سیب، آب چغندر، آب انبه)',\n",
    "    'Vegetables: (Garlic, mushroon, green papper and water chestnut);Protein Intake: ( Baru Nuts, Beech Nuts, and black walnut); Juice : (Apple juice, Mango, and Beetroot Juice)': \n",
    "        'سبزیجات: (سیر، قارچ، فلفل سبز، شاه‌بلوط آبی); پروتئین: (آجیل بارو، آجیل راش، گردوی سیاه); آبمیوه: (آب سیب، آب انبه، آب چغندر)',\n",
    "    'Vegetables: (Garlic, mushroon, green papper);Protein Intake: ( Baru Nuts, Beech Nuts, and Hemp Seeds); Juice : (Apple juice, Mango, and Beetroot Juice)': \n",
    "        'سبزیجات: (سیر، قارچ، فلفل سبز); پروتئین: (آجیل بارو، آجیل راش، دانه کنف); آبمیوه: (آب سیب، آب انبه، آب چغندر)',\n",
    "    'Vegetables: (Mixed greens, cherry tomatoes, cucumbers, bell peppers, carrots, celery, bell peppers);Protein Intake: (Chicken, fish, tofu, or legumes); Juice : (Green juice,kale, spinach, cucumber, celery, and apple)': \n",
    "        'سبزیجات: (سبزیجات مخلوط، گوجه‌فرنگی گیلاسی، خیار، فلفل دلمه‌ای، هویج، کرفس، فلفل دلمه‌ای); پروتئین: (مرغ، ماهی، توفو، حبوبات); آبمیوه: (آب سبز، کلم کیل، اسفناج، خیار، کرفس، سیب)',\n",
    "    'Vegetables: (Tomatoes, Garlic, leafy greens, broccoli, carrots, and bell peppers); Protein Intake: (poultry, fish, tofu, legumes, and low-fat dairy products); Juice: (Apple juice, beetroot juice and mango juice)': \n",
    "        'سبزیجات: (گوجه‌فرنگی، سیر، سبزیجات برگی، بروکلی، هویج، فلفل دلمه‌ای); پروتئین: (ماکیان، ماهی، توفو، حبوبات، محصولات لبنی کم‌چرب); آبمیوه: (آب سیب، آب چغندر، آب انبه)'\n",
    "}\n",
    "\n",
    "mapping_df = pd.DataFrame({\n",
    "    'Diet_Label': le_diet.transform(le_diet.classes_),\n",
    "    'Diet_String_English': le_diet.classes_,\n",
    "    'Diet_String_Persian': [translation_dict.get(diet, 'ترجمه نشده') for diet in le_diet.classes_]\n",
    "})\n",
    "\n",
    "mapping_df.to_csv('diet_mapping.csv', index=False, encoding='utf-8')\n",
    "\n",
    "print(\"Number of unique diets:\", df['Diet'].nunique())\n",
    "print(\"\\nEncoded Diet value counts:\\n\", df['Diet_Label'].value_counts())\n",
    "print(\"\\nMapping preview:\\n\", mapping_df)\n"
   ]
  },
  {
   "cell_type": "code",
   "execution_count": 13,
   "id": "a7a6ed37-5af2-4be1-a974-bb2451d9b9aa",
   "metadata": {},
   "outputs": [],
   "source": [
    "df.to_csv('GymAndDietRecommendationCleaned.csv', index=False, encoding='utf-8')"
   ]
  }
 ],
 "metadata": {
  "kernelspec": {
   "display_name": "Python 3 (ipykernel)",
   "language": "python",
   "name": "python3"
  },
  "language_info": {
   "codemirror_mode": {
    "name": "ipython",
    "version": 3
   },
   "file_extension": ".py",
   "mimetype": "text/x-python",
   "name": "python",
   "nbconvert_exporter": "python",
   "pygments_lexer": "ipython3",
   "version": "3.12.4"
  }
 },
 "nbformat": 4,
 "nbformat_minor": 5
}
