{
 "cells": [
  {
   "cell_type": "code",
   "execution_count": 272,
   "metadata": {
    "scrolled": true
   },
   "outputs": [],
   "source": [
    "import pandas as pd\n",
    "import numpy as np\n",
    "from sklearn.linear_model import LinearRegression\n",
    "from sklearn.model_selection import train_test_split\n",
    "from sklearn.metrics import mean_squared_error, r2_score, mean_absolute_error\n",
    "from sklearn.preprocessing import StandardScaler\n",
    "import joblib  # For saving and loading models\n",
    "import math"
   ]
  },
  {
   "cell_type": "code",
   "execution_count": 273,
   "metadata": {},
   "outputs": [
    {
     "name": "stdout",
     "output_type": "stream",
     "text": [
      "Data Head:\n",
      "   Gender  Age  Goal  Height  Weight  Activitylevel   BMI  EDCN  Carbohydrate  \\\n",
      "0       1   20     1     180      80            1.6  24.7  3235           445   \n",
      "1       0   21     1     163      51            1.4  19.2  2124           292   \n",
      "\n",
      "   Total Fiber   ...  Calcium    Chloride   Fluoride  Iron   Magnesium   \\\n",
      "0            45  ...       1000       2300         4      8         400   \n",
      "1            30  ...       1000       2300         3     18         310   \n",
      "\n",
      "   Potassium   Zinc   CalciumT  IronT  ZincT  \n",
      "0        3400     11      2500     45     40  \n",
      "1        2600      8      2500     45     40  \n",
      "\n",
      "[2 rows x 30 columns]\n"
     ]
    }
   ],
   "source": [
    "data = pd.read_csv('SelfMadeDRIFPA.csv')\n",
    "print(\"Data Head:\")\n",
    "print(data.head(2))\n"
   ]
  },
  {
   "cell_type": "code",
   "execution_count": 274,
   "metadata": {},
   "outputs": [],
   "source": [
    "BSA = np.sqrt((data[\"Height\"]* data[\"Weight\"]) / 3600)\n",
    "data[\"BSA\"] = round(BSA,1)\n",
    "\n",
    "SW = (data[\"Gender\"]* data[\"Weight\"]) \n",
    "data[\"SW\"] = round(SW,1)\n",
    "\n",
    "SH = (data[\"Gender\"]* data[\"Height\"]) \n",
    "data[\"SH\"] = round(SH,1)\n",
    "\n",
    "PAW = (data[\"Activitylevel\"]* data[\"Weight\"]) \n",
    "data[\"PAW\"] = round(PAW,1)\n",
    "\n",
    "PAH = (data[\"Activitylevel\"]* data[\"Height\"]) \n",
    "data[\"PAH\"] = round(PAH,1)\n",
    "\n",
    "ASHW = (data[\"SW\"]* data[\"SH\"]) \n",
    "data[\"ASHW\"] = round(ASHW,1)\n",
    "\n",
    "AW = (data[\"Age\"]* data[\"Weight\"]) \n",
    "data[\"AW\"] = round(AW,1)\n",
    "\n",
    "APA = (data[\"Age\"]* data[\"Activitylevel\"]) \n",
    "data[\"APA\"] = round(APA,1)\n",
    "\n",
    "SPA = (data[\"Gender\"]* data[\"Activitylevel\"]) \n",
    "data[\"SPA\"] = round(SPA,1)\n",
    "\n",
    "BSAPA = (data[\"BSA\"]* data[\"Activitylevel\"]) \n",
    "data[\"BSAPA\"] = round(BSAPA,1)\n",
    "\n",
    "BSAPAS = (data[\"BSA\"]* data[\"Activitylevel\"] * data[\"Gender\"]) \n",
    "data[\"BSAPAS\"] = round(BSAPAS,1)\n",
    "\n",
    "\n",
    "\n"
   ]
  },
  {
   "cell_type": "code",
   "execution_count": 275,
   "metadata": {},
   "outputs": [
    {
     "data": {
      "text/plain": [
       "['MlrEDCNV2.pkl']"
      ]
     },
     "execution_count": 275,
     "metadata": {},
     "output_type": "execute_result"
    }
   ],
   "source": [
    "X = data[['Gender', 'Age', 'Height', 'Weight', 'Activitylevel', 'BSA' , 'AW', 'PAW' ,'PAH' , 'BSAPA', 'SPA', 'BSAPAS' ]]\n",
    "y = data['EDCN']\n",
    "scaler = StandardScaler()\n",
    "X_scaled = scaler.fit_transform(X)\n",
    "joblib.dump(scaler, \"scalerMlrEDCNV2.pkl\")\n",
    "X_train, X_test, y_train, y_test = train_test_split(X_scaled, y, test_size=0.2, random_state=42)\n",
    "model = LinearRegression()\n",
    "model.fit(X_train, y_train)\n",
    "joblib.dump(model, \"MlrEDCNV2.pkl\")"
   ]
  },
  {
   "cell_type": "code",
   "execution_count": 276,
   "metadata": {},
   "outputs": [
    {
     "name": "stdout",
     "output_type": "stream",
     "text": [
      "\n",
      "Model Evaluation:\n",
      "Intercept: 2618.199544557975\n",
      "Mean squared error: 2063.96\n",
      "Mean absolute error: 33.31\n",
      "Coefficient of determination (R²): 0.99479\n"
     ]
    }
   ],
   "source": [
    "y_pred = model.predict(X_test)\n",
    "print(\"\\nModel Evaluation:\")\n",
    "print(\"Intercept:\", model.intercept_)\n",
    "print(\"Mean squared error: %.2f\" % mean_squared_error(y_test, y_pred))\n",
    "print(\"Mean absolute error: %.2f\" % mean_absolute_error(y_test, y_pred))\n",
    "print(\"Coefficient of determination (R²): %.5f\" % r2_score(y_test, y_pred))\n"
   ]
  }
 ],
 "metadata": {
  "kernelspec": {
   "display_name": "Python 3 (ipykernel)",
   "language": "python",
   "name": "python3"
  },
  "language_info": {
   "codemirror_mode": {
    "name": "ipython",
    "version": 3
   },
   "file_extension": ".py",
   "mimetype": "text/x-python",
   "name": "python",
   "nbconvert_exporter": "python",
   "pygments_lexer": "ipython3",
   "version": "3.12.4"
  }
 },
 "nbformat": 4,
 "nbformat_minor": 4
}
