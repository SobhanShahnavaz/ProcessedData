{
 "cells": [
  {
   "cell_type": "code",
   "execution_count": 9,
   "metadata": {
    "scrolled": true
   },
   "outputs": [],
   "source": [
    "import pandas as pd\n",
    "import numpy as np\n",
    "from sklearn.linear_model import LinearRegression\n",
    "from sklearn.model_selection import train_test_split\n",
    "from sklearn.metrics import mean_squared_error, r2_score, mean_absolute_error\n",
    "from sklearn.preprocessing import StandardScaler\n",
    "import joblib  # For saving and loading models"
   ]
  },
  {
   "cell_type": "code",
   "execution_count": 10,
   "metadata": {},
   "outputs": [
    {
     "name": "stdout",
     "output_type": "stream",
     "text": [
      "Data Head:\n",
      "   Gender  Age  Goal  Height  Weight  Activitylevel   BMI  EDCN  Carbohydrate  \\\n",
      "0       1   20     1     180      80              3  24.7  3235           445   \n",
      "\n",
      "   Total Fiber   ...  Calcium    Chloride   Fluoride  Iron   Magnesium   \\\n",
      "0            45  ...       1000       2300         4      8         400   \n",
      "\n",
      "   Potassium   Zinc   CalciumT  IronT  ZincT  \n",
      "0        3400     11      2500     45     40  \n",
      "\n",
      "[1 rows x 30 columns]\n"
     ]
    }
   ],
   "source": [
    "data = pd.read_csv('SelfMadeDRI.csv')\n",
    "print(\"Data Head:\")\n",
    "print(data.head(1))\n"
   ]
  },
  {
   "cell_type": "code",
   "execution_count": 11,
   "metadata": {},
   "outputs": [
    {
     "data": {
      "text/plain": [
       "['MlrECDN.pkl']"
      ]
     },
     "execution_count": 11,
     "metadata": {},
     "output_type": "execute_result"
    }
   ],
   "source": [
    "X = data[['Gender', 'Age', 'Height', 'Weight', 'Activitylevel', 'BMI']]\n",
    "y = data['Carbohydrate']\n",
    "scaler = StandardScaler()\n",
    "X_scaled = scaler.fit_transform(X)\n",
    "joblib.dump(scaler, \"scalerMlrCarbohydrate.pkl\")\n",
    "X_train, X_test, y_train, y_test = train_test_split(X_scaled, y, test_size=0.2, random_state=42)\n",
    "model = LinearRegression()\n",
    "model.fit(X_train, y_train)\n",
    "joblib.dump(model, \"MlrCarbohydrate.pkl\")"
   ]
  },
  {
   "cell_type": "code",
   "execution_count": 12,
   "metadata": {},
   "outputs": [
    {
     "name": "stdout",
     "output_type": "stream",
     "text": [
      "\n",
      "Model Evaluation:\n",
      "Intercept: 2615.151647631385\n",
      "Mean squared error: 6582.01\n",
      "Mean absolute error: 68.14\n",
      "Coefficient of determination (R²): 0.98\n"
     ]
    }
   ],
   "source": [
    "y_pred = model.predict(X_test)\n",
    "print(\"\\nModel Evaluation:\")\n",
    "print(\"Intercept:\", model.intercept_)\n",
    "print(\"Mean squared error: %.2f\" % mean_squared_error(y_test, y_pred))\n",
    "print(\"Mean absolute error: %.2f\" % mean_absolute_error(y_test, y_pred))\n",
    "print(\"Coefficient of determination (R²): %.2f\" % r2_score(y_test, y_pred))\n"
   ]
  }
 ],
 "metadata": {
  "kernelspec": {
   "display_name": "Python 3 (ipykernel)",
   "language": "python",
   "name": "python3"
  },
  "language_info": {
   "codemirror_mode": {
    "name": "ipython",
    "version": 3
   },
   "file_extension": ".py",
   "mimetype": "text/x-python",
   "name": "python",
   "nbconvert_exporter": "python",
   "pygments_lexer": "ipython3",
   "version": "3.12.4"
  }
 },
 "nbformat": 4,
 "nbformat_minor": 4
}
