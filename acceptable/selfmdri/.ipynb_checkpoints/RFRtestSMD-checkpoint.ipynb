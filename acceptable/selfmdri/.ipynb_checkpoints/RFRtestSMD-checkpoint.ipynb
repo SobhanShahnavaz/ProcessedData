{
 "cells": [
  {
   "cell_type": "code",
   "execution_count": 31,
   "id": "79de3f5a-3c12-4270-96fb-c0d3877dccec",
   "metadata": {},
   "outputs": [],
   "source": [
    "import pandas as pd\n",
    "from sklearn.model_selection import train_test_split\n",
    "from sklearn.ensemble import RandomForestRegressor\n",
    "from sklearn.metrics import mean_absolute_error, mean_squared_error, r2_score\n",
    "import numpy as np\n",
    "\n",
    "df = pd.read_csv('SelfMadeDRI.csv')"
   ]
  },
  {
   "cell_type": "code",
   "execution_count": 32,
   "id": "d9bde908-8702-41d4-be45-aa8b51bff159",
   "metadata": {},
   "outputs": [
    {
     "name": "stdout",
     "output_type": "stream",
     "text": [
      "Mean Absolute Error (MAE): 107.225\n",
      "Mean Squared Error (MSE): 20736.750728571427\n",
      "Root Mean Squared Error (RMSE): 144.0026066728357\n",
      "R-squared (R²): 0.9476156044196019\n"
     ]
    }
   ],
   "source": [
    "X = df[['Gender', 'Age' , 'Height' ,'Weight','Activitylevel', 'BMI']]\n",
    "y = df['EDCN']\n",
    "X_train, X_test, y_train, y_test = train_test_split(X, y, test_size=0.2, random_state=42)\n",
    "\n",
    "rf = RandomForestRegressor(n_estimators=100, random_state=42)\n",
    "rf.fit(X_train, y_train)\n",
    "\n",
    "y_pred = rf.predict(X_test)\n",
    "mae = mean_absolute_error(y_test, y_pred)\n",
    "mse = mean_squared_error(y_test, y_pred)\n",
    "rmse = np.sqrt(mse)\n",
    "r2 = r2_score(y_test, y_pred)\n",
    "print(f\"Mean Absolute Error (MAE): {mae}\")\n",
    "print(f\"Mean Squared Error (MSE): {mse}\")\n",
    "print(f\"Root Mean Squared Error (RMSE): {rmse}\")\n",
    "print(f\"R-squared (R²): {r2}\")\n",
    "sample_input = [[1, 20, 180,80, 3,24.7]] \n",
    "sample_prediction = rf.predict(sample_input)\n",
    "print(f\"Predicted value for the sample: {sample_prediction[0]}\")"
   ]
  },
  {
   "cell_type": "code",
   "execution_count": null,
   "id": "abd37fd9-27bd-436b-ae59-4b9648b852f4",
   "metadata": {},
   "outputs": [],
   "source": []
  }
 ],
 "metadata": {
  "kernelspec": {
   "display_name": "Python 3 (ipykernel)",
   "language": "python",
   "name": "python3"
  },
  "language_info": {
   "codemirror_mode": {
    "name": "ipython",
    "version": 3
   },
   "file_extension": ".py",
   "mimetype": "text/x-python",
   "name": "python",
   "nbconvert_exporter": "python",
   "pygments_lexer": "ipython3",
   "version": "3.12.4"
  }
 },
 "nbformat": 4,
 "nbformat_minor": 5
}
