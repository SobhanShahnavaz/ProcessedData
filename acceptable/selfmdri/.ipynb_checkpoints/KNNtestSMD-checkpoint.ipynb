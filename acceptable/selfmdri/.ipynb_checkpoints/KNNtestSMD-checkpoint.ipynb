{
 "cells": [
  {
   "cell_type": "code",
   "execution_count": 9,
   "id": "19f24232-f6ae-469c-8a62-6ca204322de3",
   "metadata": {},
   "outputs": [],
   "source": [
    "import pandas as pd\n",
    "from sklearn.model_selection import train_test_split\n",
    "from sklearn.model_selection import GridSearchCV\n",
    "from sklearn.neighbors import KNeighborsClassifier\n",
    "from sklearn.metrics import accuracy_score, recall_score, classification_report\n",
    "\n",
    "file_path = \"SelfMadeDRI.csv\" \n",
    "data = pd.read_csv(file_path)"
   ]
  },
  {
   "cell_type": "code",
   "execution_count": 15,
   "id": "bc9f193d-964b-43c3-acbd-064e0b035ef4",
   "metadata": {},
   "outputs": [
    {
     "name": "stderr",
     "output_type": "stream",
     "text": [
      "C:\\ProgramData\\anaconda3\\Lib\\site-packages\\sklearn\\model_selection\\_split.py:737: UserWarning: The least populated class in y has only 1 members, which is less than n_splits=2.\n",
      "  warnings.warn(\n"
     ]
    },
    {
     "name": "stdout",
     "output_type": "stream",
     "text": [
      "Best value of k: 1\n"
     ]
    }
   ],
   "source": [
    "feature_columns = ['Gender', 'Age' , 'Height' ,'Weight','BMI'] \n",
    "target_column = \"EDCN\" \n",
    "X = data[feature_columns]\n",
    "y = data[target_column]\n",
    "\n",
    "X_train, X_test, y_train, y_test = train_test_split(X, y, test_size=0.3, random_state=42)\n",
    "\n",
    "param_grid = {'n_neighbors': range(1, 15)}  # Test k from 1 to 30\n",
    "grid = GridSearchCV(KNeighborsClassifier(), param_grid, cv=2)  # 5-fold cross-validation\n",
    "grid.fit(X_train, y_train)\n",
    "best_k = grid.best_params_['n_neighbors']\n",
    "print(f\"Best value of k: {best_k}\")"
   ]
  },
  {
   "cell_type": "code",
   "execution_count": 17,
   "id": "2199538b-0717-4c72-ac2e-5fe5d04f92d3",
   "metadata": {},
   "outputs": [
    {
     "name": "stdout",
     "output_type": "stream",
     "text": [
      "Classification Metrics:\n",
      "Accuracy: 0.52\n",
      "\n",
      "Classification Report:\n",
      "              precision    recall  f1-score   support\n",
      "\n",
      "        1786       1.00      1.00      1.00         1\n",
      "        1803       1.00      1.00      1.00         1\n",
      "        1828       1.00      1.00      1.00         1\n",
      "        1876       1.00      1.00      1.00         1\n",
      "        1878       1.00      1.00      1.00         1\n",
      "        1909       0.00      0.00      0.00         0\n",
      "        1932       1.00      1.00      1.00         1\n",
      "        1948       1.00      1.00      1.00         1\n",
      "        1950       0.00      0.00      0.00         1\n",
      "        1968       0.00      0.00      0.00         2\n",
      "        1976       1.00      1.00      1.00         1\n",
      "        1991       1.00      0.33      0.50         3\n",
      "        2000       0.00      0.00      0.00         0\n",
      "        2030       0.00      0.00      0.00         0\n",
      "        2038       0.00      0.00      0.00         0\n",
      "        2039       0.00      0.00      0.00         0\n",
      "        2062       0.00      0.00      0.00         2\n",
      "        2074       1.00      1.00      1.00         1\n",
      "        2076       1.00      1.00      1.00         1\n",
      "        2083       1.00      1.00      1.00         1\n",
      "        2100       0.00      0.00      0.00         0\n",
      "        2124       1.00      1.00      1.00         1\n",
      "        2176       0.33      0.33      0.33         3\n",
      "        2190       1.00      0.33      0.50         3\n",
      "        2198       0.00      0.00      0.00         1\n",
      "        2200       0.00      0.00      0.00         1\n",
      "        2230       0.00      0.00      0.00         2\n",
      "        2240       1.00      1.00      1.00         1\n",
      "        2245       0.00      0.00      0.00         0\n",
      "        2260       1.00      1.00      1.00         1\n",
      "        2296       1.00      1.00      1.00         1\n",
      "        2309       0.00      0.00      0.00         0\n",
      "        2328       1.00      1.00      1.00         1\n",
      "        2332       0.00      0.00      0.00         0\n",
      "        2368       0.00      0.00      0.00         2\n",
      "        2381       1.00      1.00      1.00         1\n",
      "        2386       1.00      1.00      1.00         1\n",
      "        2417       0.00      0.00      0.00         2\n",
      "        2442       0.00      0.00      0.00         1\n",
      "        2450       0.00      0.00      0.00         1\n",
      "        2500       0.00      0.00      0.00         0\n",
      "        2505       1.00      1.00      1.00         1\n",
      "        2514       1.00      1.00      1.00         1\n",
      "        2590       0.33      1.00      0.50         1\n",
      "        2593       0.00      0.00      0.00         2\n",
      "        2601       1.00      1.00      1.00         1\n",
      "        2607       1.00      1.00      1.00         1\n",
      "        2636       0.00      0.00      0.00         2\n",
      "        2661       0.00      0.00      0.00         2\n",
      "        2676       1.00      1.00      1.00         1\n",
      "        2678       0.00      0.00      0.00         1\n",
      "        2686       0.00      0.00      0.00         0\n",
      "        2698       1.00      1.00      1.00         1\n",
      "        2732       1.00      1.00      1.00         1\n",
      "        2734       1.00      1.00      1.00         1\n",
      "        2735       1.00      1.00      1.00         1\n",
      "        2739       1.00      1.00      1.00         1\n",
      "        2760       0.00      0.00      0.00         0\n",
      "        2768       0.33      1.00      0.50         1\n",
      "        2812       0.00      0.00      0.00         0\n",
      "        2831       1.00      1.00      1.00         1\n",
      "        2855       0.00      0.00      0.00         2\n",
      "        2900       0.00      0.00      0.00         1\n",
      "        2952       1.00      1.00      1.00         1\n",
      "        2999       1.00      1.00      1.00         1\n",
      "        3001       0.00      0.00      0.00         2\n",
      "        3004       1.00      1.00      1.00         1\n",
      "        3050       0.00      0.00      0.00         1\n",
      "        3098       0.00      0.00      0.00         0\n",
      "        3100       0.00      0.00      0.00         1\n",
      "        3150       0.00      0.00      0.00         0\n",
      "        3158       0.50      1.00      0.67         1\n",
      "        3162       0.50      1.00      0.67         1\n",
      "        3235       1.00      1.00      1.00         1\n",
      "        3250       0.00      0.00      0.00         1\n",
      "        3254       1.00      1.00      1.00         1\n",
      "        3344       1.00      1.00      1.00         1\n",
      "        3350       0.00      0.00      0.00         1\n",
      "        3385       0.00      0.00      0.00         2\n",
      "        3412       1.00      1.00      1.00         1\n",
      "        3437       0.00      0.00      0.00         0\n",
      "        3590       0.00      0.00      0.00         1\n",
      "        3615       0.67      1.00      0.80         2\n",
      "        3779       1.00      1.00      1.00         1\n",
      "        3848       0.00      0.00      0.00         1\n",
      "        3911       0.00      0.00      0.00         0\n",
      "        3961       0.00      0.00      0.00         2\n",
      "        4061       0.00      0.00      0.00         0\n",
      "\n",
      "    accuracy                           0.52        89\n",
      "   macro avg       0.47      0.49      0.47        89\n",
      "weighted avg       0.53      0.52      0.50        89\n",
      "\n"
     ]
    },
    {
     "name": "stderr",
     "output_type": "stream",
     "text": [
      "C:\\ProgramData\\anaconda3\\Lib\\site-packages\\sklearn\\metrics\\_classification.py:1509: UndefinedMetricWarning: Precision is ill-defined and being set to 0.0 in labels with no predicted samples. Use `zero_division` parameter to control this behavior.\n",
      "  _warn_prf(average, modifier, f\"{metric.capitalize()} is\", len(result))\n",
      "C:\\ProgramData\\anaconda3\\Lib\\site-packages\\sklearn\\metrics\\_classification.py:1509: UndefinedMetricWarning: Recall is ill-defined and being set to 0.0 in labels with no true samples. Use `zero_division` parameter to control this behavior.\n",
      "  _warn_prf(average, modifier, f\"{metric.capitalize()} is\", len(result))\n",
      "C:\\ProgramData\\anaconda3\\Lib\\site-packages\\sklearn\\metrics\\_classification.py:1509: UndefinedMetricWarning: Precision is ill-defined and being set to 0.0 in labels with no predicted samples. Use `zero_division` parameter to control this behavior.\n",
      "  _warn_prf(average, modifier, f\"{metric.capitalize()} is\", len(result))\n",
      "C:\\ProgramData\\anaconda3\\Lib\\site-packages\\sklearn\\metrics\\_classification.py:1509: UndefinedMetricWarning: Recall is ill-defined and being set to 0.0 in labels with no true samples. Use `zero_division` parameter to control this behavior.\n",
      "  _warn_prf(average, modifier, f\"{metric.capitalize()} is\", len(result))\n",
      "C:\\ProgramData\\anaconda3\\Lib\\site-packages\\sklearn\\metrics\\_classification.py:1509: UndefinedMetricWarning: Precision is ill-defined and being set to 0.0 in labels with no predicted samples. Use `zero_division` parameter to control this behavior.\n",
      "  _warn_prf(average, modifier, f\"{metric.capitalize()} is\", len(result))\n",
      "C:\\ProgramData\\anaconda3\\Lib\\site-packages\\sklearn\\metrics\\_classification.py:1509: UndefinedMetricWarning: Recall is ill-defined and being set to 0.0 in labels with no true samples. Use `zero_division` parameter to control this behavior.\n",
      "  _warn_prf(average, modifier, f\"{metric.capitalize()} is\", len(result))\n"
     ]
    }
   ],
   "source": [
    "k = 1\n",
    "knn = KNeighborsClassifier(n_neighbors=k)\n",
    "knn.fit(X_train, y_train)\n",
    "y_pred = knn.predict(X_test)\n",
    "print(\"Classification Metrics:\")\n",
    "print(f\"Accuracy: {accuracy_score(y_test, y_pred):.2f}\")\n",
    "print(\"\\nClassification Report:\")\n",
    "print(classification_report(y_test, y_pred))"
   ]
  }
 ],
 "metadata": {
  "kernelspec": {
   "display_name": "Python 3 (ipykernel)",
   "language": "python",
   "name": "python3"
  },
  "language_info": {
   "codemirror_mode": {
    "name": "ipython",
    "version": 3
   },
   "file_extension": ".py",
   "mimetype": "text/x-python",
   "name": "python",
   "nbconvert_exporter": "python",
   "pygments_lexer": "ipython3",
   "version": "3.12.4"
  }
 },
 "nbformat": 4,
 "nbformat_minor": 5
}
